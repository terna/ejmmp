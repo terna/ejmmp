{
 "cells": [
  {
   "cell_type": "code",
   "execution_count": 1,
   "id": "cc9ff937",
   "metadata": {},
   "outputs": [],
   "source": [
    "#!pip install pyyaml\n",
    "import yaml\n",
    "import os"
   ]
  },
  {
   "cell_type": "markdown",
   "id": "39a06899",
   "metadata": {},
   "source": [
    "for i in range(2): \n",
    "    os.system('mpirun -n 4 ipython model1.3.ipynb > /dev/null 2>&1')"
   ]
  },
  {
   "cell_type": "code",
   "execution_count": 2,
   "id": "ffd76e91",
   "metadata": {},
   "outputs": [],
   "source": [
    "yaml_file = 'model1.yaml'\n",
    "num_of_repetitions = 99\n",
    "\n",
    "#lanciare 100 runs qua\n",
    "#cambiare nome in file PlannerMethods (regular etc)\n",
    "#cambiare sotto f'PlannerMaxReg' o Min\n",
    "\n",
    "try:\n",
    "    for i in range(num_of_repetitions):\n",
    "        with open(yaml_file, 'r') as file:\n",
    "            data = yaml.safe_load(file)  \n",
    "            \n",
    "        data['log_file_root'] = f'PlannerPropReg{i}'\n",
    "\n",
    "        with open(yaml_file, 'w') as file:\n",
    "            yaml.safe_dump(data, file)\n",
    "\n",
    "        command = 'mpirun -n 4 ipython model1.3.ipynb > /dev/null 2>&1'\n",
    "        os.system(command)\n",
    "\n",
    "except Exception as e:\n",
    "    print(f\"An error occurred: {e}\")"
   ]
  }
 ],
 "metadata": {
  "kernelspec": {
   "display_name": "Python 3 (ipykernel)",
   "language": "python",
   "name": "python3"
  },
  "language_info": {
   "codemirror_mode": {
    "name": "ipython",
    "version": 3
   },
   "file_extension": ".py",
   "mimetype": "text/x-python",
   "name": "python",
   "nbconvert_exporter": "python",
   "pygments_lexer": "ipython3",
   "version": "3.8.10"
  }
 },
 "nbformat": 4,
 "nbformat_minor": 5
}
