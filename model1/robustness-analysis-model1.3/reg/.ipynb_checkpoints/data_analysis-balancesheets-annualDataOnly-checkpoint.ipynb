{
 "cells": [
  {
   "cell_type": "code",
   "execution_count": 1,
   "id": "e847031b",
   "metadata": {},
   "outputs": [
    {
     "data": {
      "application/javascript": [
       "// to avoid scroll in windows\n",
       "IPython.OutputArea.prototype._should_scroll = function(lines) {\n",
       "    return false;\n",
       "}\n"
      ],
      "text/plain": [
       "<IPython.core.display.Javascript object>"
      ]
     },
     "metadata": {},
     "output_type": "display_data"
    }
   ],
   "source": [
    "%%javascript\n",
    "// to avoid scroll in windows\n",
    "IPython.OutputArea.prototype._should_scroll = function(lines) {\n",
    "    return false;\n",
    "}"
   ]
  },
  {
   "cell_type": "code",
   "execution_count": 2,
   "id": "afd21e97-4076-4faf-b2f7-f113972e496a",
   "metadata": {},
   "outputs": [
    {
     "name": "stdin",
     "output_type": "stream",
     "text": [
      "The name of your input folder without extension:  PlannerPropReg1\n"
     ]
    }
   ],
   "source": [
    "import pandas as pd\n",
    "import numpy as np\n",
    "import csv\n",
    "import os\n",
    "import sys\n",
    "import matplotlib.pyplot as plt #also used to generate the legends\n",
    "from typing import List\n",
    "import pickle\n",
    "\n",
    "myListDir=os.listdir()\n",
    "#folder=input(\"The name of your input folder without extension: \")\n",
    "folder=sys.argv[1]\n",
    "while not folder+\".0\" in myListDir: #extension 0 certainly exists, as we have at least one rank\n",
    "    print(folder+\": wrong name\")\n",
    "    folder=input(\"The name of your input folder, without extension: \")\n",
    "\n",
    "os.chdir(\"./\"+folder+\".0\") #extension 0 certainly exists, as we have at least one rank\n",
    "\n",
    "with open(\"plotInfo.csv\",\"r\") as data:\n",
    "    reader = csv.reader(data, delimiter = ',')\n",
    "    for row in reader:\n",
    "        fileNameRoot=row[0] #the names of the files contating the data start with...\n",
    "        rankNum=int(row[1]) #we have file from different ranks, reported in different folders with name, for a specific\n",
    "                            #rank: fileNameRoot+\".\"+str(rank)\n",
    "        ag0num=int(row[2])  #how many agents in each rank, with type==0\n",
    "\n",
    "#current folders\n",
    "#print(\"Current folders are:\")\n",
    "#for k in range(rankNum):\n",
    "#    print(folder+\".\"+str(k))"
   ]
  },
  {
   "cell_type": "markdown",
   "id": "1fa6df43-0a81-4b3c-a667-a68222384557",
   "metadata": {},
   "source": [
    "### uncomment to show all the rows in tables"
   ]
  },
  {
   "cell_type": "code",
   "execution_count": 3,
   "id": "f8066dfc-95cb-4a40-8789-464a9a71c032",
   "metadata": {},
   "outputs": [],
   "source": [
    "#display all the rows of the dataframe  \n",
    "pd.set_option('display.max_rows', None)"
   ]
  },
  {
   "cell_type": "markdown",
   "id": "da865b49-bab1-4373-931b-d08288fdfbba",
   "metadata": {},
   "source": [
    "# creation of firm dataframes"
   ]
  },
  {
   "cell_type": "code",
   "execution_count": 4,
   "id": "be8f1527",
   "metadata": {},
   "outputs": [],
   "source": [
    "def merge(dict1, dict2):\n",
    "    res = {**dict1, **dict2}\n",
    "    return res"
   ]
  },
  {
   "cell_type": "code",
   "execution_count": 5,
   "id": "cf280f7e-7ac5-441c-a0c8-536ecc0f91fb",
   "metadata": {},
   "outputs": [],
   "source": [
    "#operating by folders to load the pickle balancesheet dictionary files\n",
    "fileName=folder+\"_balancesheetDict.p\"\n",
    "for k in range(rankNum):\n",
    "    #which folder\n",
    "    os.chdir(\"../\"+folder+\".\"+str(k))\n",
    "    firmDataTmp=pickle.load(open(fileName, \"rb\"))\n",
    "    if k==0: firmData=firmDataTmp\n",
    "    else: firmData = merge(firmData,firmDataTmp)"
   ]
  },
  {
   "cell_type": "markdown",
   "id": "871e0e7b-704d-4dae-afb8-bb3cf02f8d08",
   "metadata": {},
   "source": [
    "# The allFirmData dataframe"
   ]
  },
  {
   "cell_type": "code",
   "execution_count": 6,
   "id": "ab9044c4-4d78-48ef-becc-9147da8cdb67",
   "metadata": {},
   "outputs": [],
   "source": [
    "#create a dataframe summing up all the firm dataframes\n",
    "allFirmData=firmData[list(firmData.keys())[0]].copy() #copy the dataframe of first firm; use .copy to create an\n",
    "                                                      #independent copy with a new name\n",
    "\n",
    "for aFirmUid in list(firmData.keys())[1:]: #from the second to the last\n",
    "    allFirmData=allFirmData.add(firmData[aFirmUid])\n",
    "\n",
    "allFirmData.__description__=\"all firms\""
   ]
  },
  {
   "cell_type": "markdown",
   "id": "3882ff59",
   "metadata": {},
   "source": [
    "# The National Economic Balance Table"
   ]
  },
  {
   "cell_type": "code",
   "execution_count": 7,
   "id": "18bdc442-a9e6-482b-93be-f0237c8fe08a",
   "metadata": {},
   "outputs": [],
   "source": [
    "allFirmData['consumptions']=allFirmData['revenuesCons']\n",
    "allFirmData['investments']=allFirmData['revenuesInv']\n",
    "allFirmData[['initial inventories', 'added value', 'consumptions', 'investments',\\\n",
    "             'invGoods in progr. inventories','invGoods inventories',\\\n",
    "             'consGoods in progr. inventories','consGoods inventories']];"
   ]
  },
  {
   "cell_type": "raw",
   "id": "89751a84-b1f2-4310-9409-084cc75faab6",
   "metadata": {},
   "source": [
    "#allFirmData[['initial inventories', 'added value', 'consumptions',\\\n",
    "             #'investments','in progr. inventories','inventories']].plot(figsize=(12,6))\n",
    "\n",
    "allFirmData[['initial inventories', 'added value', 'consumptions',\\\n",
    "             'investments','invGoods inventories', 'invGoods in progr. inventories',\\\n",
    "             'consGoods inventories', 'consGoods in progr. inventories']][24:].plot(figsize=(12,6))\n"
   ]
  },
  {
   "cell_type": "code",
   "execution_count": 8,
   "id": "92faa955-e055-4299-93b6-3e9a283136d3",
   "metadata": {},
   "outputs": [],
   "source": [
    "monthlyData=allFirmData[['initial inventories', 'added value', 'consumptions',\\\n",
    "             'investments','invGoods inventories', 'invGoods in progr. inventories',\\\n",
    "             'consGoods inventories', 'consGoods in progr. inventories']][24:].to_numpy()"
   ]
  },
  {
   "cell_type": "raw",
   "id": "13dddb63-0515-4857-b54f-439f6cb4f775",
   "metadata": {},
   "source": [
    "monthlyData"
   ]
  },
  {
   "cell_type": "raw",
   "id": "4e1caa08-2de4-4a17-af55-23d7d2abaa23",
   "metadata": {},
   "source": [
    "plt.plot(monthlyData,label=['initial inventories', 'added value', 'consumptions',\\\n",
    "             'investments','invGoods inventories', 'invGoods in progr. inventories',\\\n",
    "             'consGoods inventories', 'consGoods in progr. inventories'])\n",
    "#plt.legend(loc='upper right')\n",
    "plt.legend(bbox_to_anchor=(1, 1))\n"
   ]
  },
  {
   "cell_type": "raw",
   "id": "67d2c7cb-ae5b-4baf-8ef2-b209d3d95602",
   "metadata": {},
   "source": [
    "int(len(monthlyData)/12)"
   ]
  },
  {
   "cell_type": "raw",
   "id": "c46a0586-f992-493e-bc6f-90dad3c683f5",
   "metadata": {},
   "source": [
    "len(monthlyData[0])"
   ]
  },
  {
   "cell_type": "code",
   "execution_count": 9,
   "id": "97b4527a-2091-469f-be09-7308896d8a93",
   "metadata": {},
   "outputs": [],
   "source": [
    "yearlyData = np.zeros((int(len(monthlyData)/12),len(monthlyData[0])))"
   ]
  },
  {
   "cell_type": "code",
   "execution_count": 10,
   "id": "25e71e81-4046-4e68-b0bf-fd7ededa50a9",
   "metadata": {},
   "outputs": [],
   "source": [
    "#stock (initial or final) or flow\n",
    "sf=['si','f','f','f','sf','sf','sf','sf']"
   ]
  },
  {
   "cell_type": "code",
   "execution_count": 11,
   "id": "2f248bca-1891-4246-a0f4-c1df895e12d0",
   "metadata": {},
   "outputs": [],
   "source": [
    "for i in range(int(len(monthlyData)/12)):\n",
    "    for j in range(len(monthlyData[0])):  #a row\n",
    "        #the 1st value or the sum of 12 values or the 12th value\n",
    "        ourRange=range(12*i,12*i+12) #flow\n",
    "        if sf[j]=='si': ourRange=range(12*i,1+12*i)\n",
    "        if sf[j]=='sf': ourRange=range(11+12*i,12+12*i)\n",
    "        for k in ourRange:   \n",
    "            yearlyData[i][j]+=monthlyData[k][j]"
   ]
  },
  {
   "cell_type": "raw",
   "id": "9a210940-312f-40b9-a48e-efb219149fa8",
   "metadata": {},
   "source": [
    "np.set_printoptions(suppress=True)\n",
    "yearlyData"
   ]
  },
  {
   "cell_type": "raw",
   "id": "47e96219-52a9-43a6-b79d-b51a3b4bd45b",
   "metadata": {},
   "source": [
    "plt.plot(yearlyData,label=['initial inventories', 'added value', 'consumptions',\\\n",
    "             'investments','invGoods inventories', 'invGoods in progr. inventories',\\\n",
    "             'consGoods inventories', 'consGoods in progr. inventories'])\n",
    "plt.title(\"Yearly National Accounts \"+ folder)\n",
    "plt.xlabel(\"years\")\n",
    "#plt.legend(loc='upper right')\n",
    "plt.legend(bbox_to_anchor=(1, 1))\n",
    "os.chdir(\"../\"+folder+\".0\")\n",
    "plt.savefig(\"_\"+folder+\"_YearlyNationalAccounts.jpg\", dpi=180, bbox_inches='tight')"
   ]
  },
  {
   "cell_type": "raw",
   "id": "c38465d8-bc41-423e-97ef-cd926b0febc7",
   "metadata": {},
   "source": [
    "os.system('pwd')"
   ]
  },
  {
   "cell_type": "code",
   "execution_count": 12,
   "id": "466c6662-34bd-4393-a55d-a2816ab53ecd",
   "metadata": {},
   "outputs": [],
   "source": [
    "with open('../yearlyData/'+folder+\".npy\", 'wb') as f:\n",
    "    np.save(f,yearlyData[:,[1,2,3]])"
   ]
  },
  {
   "cell_type": "code",
   "execution_count": null,
   "id": "12413c02-78b0-401c-af50-2127afae4a40",
   "metadata": {},
   "outputs": [],
   "source": []
  }
 ],
 "metadata": {
  "kernelspec": {
   "display_name": "Python 3 (ipykernel)",
   "language": "python",
   "name": "python3"
  },
  "language_info": {
   "codemirror_mode": {
    "name": "ipython",
    "version": 3
   },
   "file_extension": ".py",
   "mimetype": "text/x-python",
   "name": "python",
   "nbconvert_exporter": "python",
   "pygments_lexer": "ipython3",
   "version": "3.11.7"
  }
 },
 "nbformat": 4,
 "nbformat_minor": 5
}
