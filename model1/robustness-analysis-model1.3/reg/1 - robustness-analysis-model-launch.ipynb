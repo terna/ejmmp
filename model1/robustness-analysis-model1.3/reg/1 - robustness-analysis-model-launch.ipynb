{
 "cells": [
  {
   "cell_type": "code",
   "execution_count": 1,
   "id": "cc9ff937",
   "metadata": {},
   "outputs": [],
   "source": [
    "#!pip install pyyaml\n",
    "import yaml\n",
    "import os\n",
    "import random"
   ]
  },
  {
   "cell_type": "markdown",
   "id": "39a06899",
   "metadata": {},
   "source": [
    " os.system('mpirun -n 4 ipython model1.3.ipynb > /dev/null 2>&1')"
   ]
  },
  {
   "cell_type": "code",
   "execution_count": 2,
   "id": "ffd76e91",
   "metadata": {},
   "outputs": [],
   "source": [
    "yaml_file = 'model1.yaml'\n",
    "num_of_repetitions = 100\n",
    "\n",
    "# 100 runs \n",
    "# ser file name as in f'PlannerPropReg'\n",
    "\n",
    "random.seed(12345)\n",
    "\n",
    "try:\n",
    "    for i in range(num_of_repetitions):\n",
    "        with open(yaml_file, 'r') as file:\n",
    "            data = yaml.safe_load(file)  \n",
    "            \n",
    "        data['log_file_root'] = f'PlannerPropReg{i}'\n",
    "        r= []\n",
    "        for n in range(4):\n",
    "            r.append(random.randint(100,10000))\n",
    "        data['myRandom.seed'] = r\n",
    "\n",
    "        with open(yaml_file, 'w') as file:\n",
    "            yaml.safe_dump(data, file)\n",
    "\n",
    "        command = 'mpirun -n 4 ipython model1.3.ipynb > /dev/null 2>&1'\n",
    "        os.system(command)\n",
    "\n",
    "except Exception as e:\n",
    "    print(f\"An error occurred: {e}\")"
   ]
  }
 ],
 "metadata": {
  "kernelspec": {
   "display_name": "Python 3 (ipykernel)",
   "language": "python",
   "name": "python3"
  },
  "language_info": {
   "codemirror_mode": {
    "name": "ipython",
    "version": 3
   },
   "file_extension": ".py",
   "mimetype": "text/x-python",
   "name": "python",
   "nbconvert_exporter": "python",
   "pygments_lexer": "ipython3",
   "version": "3.11.7"
  }
 },
 "nbformat": 4,
 "nbformat_minor": 5
}
