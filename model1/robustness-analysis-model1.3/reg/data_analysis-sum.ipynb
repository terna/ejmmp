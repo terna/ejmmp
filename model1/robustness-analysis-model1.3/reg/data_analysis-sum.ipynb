{
 "cells": [
  {
   "cell_type": "code",
   "execution_count": 1,
   "id": "a340249a-e3e6-4241-8f6d-87ca19fe3be8",
   "metadata": {},
   "outputs": [],
   "source": [
    "import numpy as np"
   ]
  },
  {
   "cell_type": "code",
   "execution_count": 7,
   "id": "3dbad0a1-c5a5-4a21-92ad-cc4756e6c2dd",
   "metadata": {},
   "outputs": [],
   "source": [
    "fileBase=\"./yearlyData/PlannerPropReg\"\n",
    "num_of_repetitions = 2"
   ]
  },
  {
   "cell_type": "code",
   "execution_count": 3,
   "id": "e4585d97-795a-453d-966f-b877de3a0ba5",
   "metadata": {},
   "outputs": [],
   "source": [
    "yearlyDataGNP=np.zeros((20,102))"
   ]
  },
  {
   "cell_type": "code",
   "execution_count": 4,
   "id": "7110e7a1-d29c-41e7-98da-0fddc3b79944",
   "metadata": {},
   "outputs": [],
   "source": [
    "for y in range(num_of_repetitions):\n",
    "    yearlyData=np.load(fileBase+str(y)+\".npy\")\n",
    "    #yearlyData\n",
    "    yearlyDataGNP[:,y]=yearlyData[:,0]"
   ]
  },
  {
   "cell_type": "code",
   "execution_count": 5,
   "id": "1c761fe7-04dc-476f-adff-670e3b649497",
   "metadata": {},
   "outputs": [
    {
     "data": {
      "text/plain": [
       "array([[135367.53611111, 138365.26527778,      0.        , ...,\n",
       "             0.        ,      0.        ,      0.        ],\n",
       "       [135211.25555555, 135360.48055555,      0.        , ...,\n",
       "             0.        ,      0.        ,      0.        ],\n",
       "       [134694.96527778, 137416.46944444,      0.        , ...,\n",
       "             0.        ,      0.        ,      0.        ],\n",
       "       ...,\n",
       "       [137835.04027778, 136234.4875    ,      0.        , ...,\n",
       "             0.        ,      0.        ,      0.        ],\n",
       "       [136521.825     , 137353.49861111,      0.        , ...,\n",
       "             0.        ,      0.        ,      0.        ],\n",
       "       [138019.89583333, 137068.45416667,      0.        , ...,\n",
       "             0.        ,      0.        ,      0.        ]])"
      ]
     },
     "execution_count": 5,
     "metadata": {},
     "output_type": "execute_result"
    }
   ],
   "source": [
    "yearlyDataGNP"
   ]
  },
  {
   "cell_type": "code",
   "execution_count": 6,
   "id": "d0011c51-c84e-4085-a498-d1b5a1091f10",
   "metadata": {},
   "outputs": [
    {
     "data": {
      "text/plain": [
       "array([135367.53611111, 138365.26527778])"
      ]
     },
     "execution_count": 6,
     "metadata": {},
     "output_type": "execute_result"
    }
   ],
   "source": [
    "yearlyDataGNP[0][:num_of_repetitions]"
   ]
  },
  {
   "cell_type": "code",
   "execution_count": null,
   "id": "ea17b39b-31bc-4969-af6f-a39e68de2337",
   "metadata": {},
   "outputs": [],
   "source": []
  }
 ],
 "metadata": {
  "kernelspec": {
   "display_name": "Python 3 (ipykernel)",
   "language": "python",
   "name": "python3"
  },
  "language_info": {
   "codemirror_mode": {
    "name": "ipython",
    "version": 3
   },
   "file_extension": ".py",
   "mimetype": "text/x-python",
   "name": "python",
   "nbconvert_exporter": "python",
   "pygments_lexer": "ipython3",
   "version": "3.11.7"
  }
 },
 "nbformat": 4,
 "nbformat_minor": 5
}
