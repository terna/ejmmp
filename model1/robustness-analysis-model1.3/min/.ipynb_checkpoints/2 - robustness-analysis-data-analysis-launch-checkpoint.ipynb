{
 "cells": [
  {
   "cell_type": "code",
   "execution_count": 1,
   "id": "cc9ff937",
   "metadata": {},
   "outputs": [],
   "source": [
    "#!pip install pyyaml\n",
    "import os"
   ]
  },
  {
   "cell_type": "markdown",
   "id": "39a06899",
   "metadata": {},
   "source": [
    "'ipython data_analysis-balancesheets-annualDataOnly.ipynb'+name+str(y) > /dev/null 2>&1'"
   ]
  },
  {
   "cell_type": "code",
   "execution_count": 2,
   "id": "ffd76e91",
   "metadata": {},
   "outputs": [],
   "source": [
    "num_of_repetitions = 100\n",
    "\n",
    "# 100 runs\n",
    "\n",
    "for i in range(num_of_repetitions):            \n",
    "    name = f'PlannerPropMin{i}'\n",
    "    command = 'ipython data_analysis-balancesheets-annualDataOnly.ipynb '+name+' > /dev/null 2>&1'\n",
    "    os.system(command)"
   ]
  }
 ],
 "metadata": {
  "kernelspec": {
   "display_name": "Python 3 (ipykernel)",
   "language": "python",
   "name": "python3"
  },
  "language_info": {
   "codemirror_mode": {
    "name": "ipython",
    "version": 3
   },
   "file_extension": ".py",
   "mimetype": "text/x-python",
   "name": "python",
   "nbconvert_exporter": "python",
   "pygments_lexer": "ipython3",
   "version": "3.11.7"
  }
 },
 "nbformat": 4,
 "nbformat_minor": 5
}
