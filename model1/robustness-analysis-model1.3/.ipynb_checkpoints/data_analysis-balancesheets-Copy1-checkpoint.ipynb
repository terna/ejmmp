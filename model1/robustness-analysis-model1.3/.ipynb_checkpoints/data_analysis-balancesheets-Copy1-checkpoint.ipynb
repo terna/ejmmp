{
 "cells": [
  {
   "cell_type": "code",
   "execution_count": 1,
   "id": "e847031b",
   "metadata": {},
   "outputs": [
    {
     "data": {
      "application/javascript": [
       "// to avoid scroll in windows\n",
       "IPython.OutputArea.prototype._should_scroll = function(lines) {\n",
       "    return false;\n",
       "}\n"
      ],
      "text/plain": [
       "<IPython.core.display.Javascript object>"
      ]
     },
     "metadata": {},
     "output_type": "display_data"
    }
   ],
   "source": [
    "%%javascript\n",
    "// to avoid scroll in windows\n",
    "IPython.OutputArea.prototype._should_scroll = function(lines) {\n",
    "    return false;\n",
    "}"
   ]
  },
  {
   "cell_type": "code",
   "execution_count": null,
   "id": "afd21e97-4076-4faf-b2f7-f113972e496a",
   "metadata": {},
   "outputs": [
    {
     "name": "stdin",
     "output_type": "stream",
     "text": [
      "The name of your input folder without extension:  reg/PlannerPropReg0\n"
     ]
    },
    {
     "name": "stdout",
     "output_type": "stream",
     "text": [
      "reg/PlannerPropReg0: wrong name\n"
     ]
    },
    {
     "name": "stdin",
     "output_type": "stream",
     "text": [
      "The name of your input folder, without extension:  \"reg/PlannerPropReg0\"\n"
     ]
    },
    {
     "name": "stdout",
     "output_type": "stream",
     "text": [
      "\"reg/PlannerPropReg0\": wrong name\n"
     ]
    }
   ],
   "source": [
    "import pandas as pd\n",
    "import numpy as np\n",
    "import csv\n",
    "import os\n",
    "import matplotlib.pyplot as plt #also used to generate the legends\n",
    "from typing import List\n",
    "import pickle\n",
    "\n",
    "myListDir=os.listdir()\n",
    "folder=input(\"The name of your input folder without extension: \")\n",
    "while not folder+\".0\" in myListDir: #extension 0 certainly exists, as we have at least one rank\n",
    "    print(folder+\": wrong name\")\n",
    "    folder=input(\"The name of your input folder, without extension: \")\n",
    "\n",
    "os.chdir(\"./\"+folder+\".0\") #extension 0 certainly exists, as we have at least one rank\n",
    "\n",
    "with open(\"plotInfo.csv\",\"r\") as data:\n",
    "    reader = csv.reader(data, delimiter = ',')\n",
    "    for row in reader:\n",
    "        fileNameRoot=row[0] #the names of the files contating the data start with...\n",
    "        rankNum=int(row[1]) #we have file from different ranks, reported in different folders with name, for a specific\n",
    "                            #rank: fileNameRoot+\".\"+str(rank)\n",
    "        ag0num=int(row[2])  #how many agents in each rank, with type==0\n",
    "\n",
    "#current folders\n",
    "print(\"Current folders are:\")\n",
    "for k in range(rankNum):\n",
    "    print(folder+\".\"+str(k))"
   ]
  },
  {
   "cell_type": "markdown",
   "id": "1fa6df43-0a81-4b3c-a667-a68222384557",
   "metadata": {},
   "source": [
    "### uncomment to show all the rows in tables"
   ]
  },
  {
   "cell_type": "code",
   "execution_count": null,
   "id": "f8066dfc-95cb-4a40-8789-464a9a71c032",
   "metadata": {},
   "outputs": [],
   "source": [
    "#display all the rows of the dataframe  \n",
    "pd.set_option('display.max_rows', None)"
   ]
  },
  {
   "cell_type": "markdown",
   "id": "da865b49-bab1-4373-931b-d08288fdfbba",
   "metadata": {},
   "source": [
    "# creation of firm dataframes"
   ]
  },
  {
   "cell_type": "code",
   "execution_count": null,
   "id": "be8f1527",
   "metadata": {},
   "outputs": [],
   "source": [
    "def merge(dict1, dict2):\n",
    "    res = {**dict1, **dict2}\n",
    "    return res"
   ]
  },
  {
   "cell_type": "code",
   "execution_count": null,
   "id": "cf280f7e-7ac5-441c-a0c8-536ecc0f91fb",
   "metadata": {},
   "outputs": [],
   "source": [
    "#operating by folders to load the pickle balancesheet dictionary files\n",
    "fileName=folder+\"_balancesheetDict.p\"\n",
    "for k in range(rankNum):\n",
    "    #which folder\n",
    "    os.chdir(\"../\"+folder+\".\"+str(k))\n",
    "    firmDataTmp=pickle.load(open(fileName, \"rb\"))\n",
    "    if k==0: firmData=firmDataTmp\n",
    "    else: firmData = merge(firmData,firmDataTmp)"
   ]
  },
  {
   "cell_type": "markdown",
   "id": "9cbfa254-8156-4af2-a30f-3a5bf4da195b",
   "metadata": {},
   "source": [
    "# Retrieve a firm"
   ]
  },
  {
   "cell_type": "code",
   "execution_count": null,
   "id": "574cd57a-69be-4693-9c93-00c3e106a8d3",
   "metadata": {},
   "outputs": [],
   "source": [
    "#retrieve a firm with id and rank\n",
    "def retrieveFirmBalancesheet(id,r):\n",
    "    return firmData[(id, 0, r)]"
   ]
  },
  {
   "cell_type": "code",
   "execution_count": null,
   "id": "7e02eb6c-433b-491f-bf34-a06c7a922837",
   "metadata": {},
   "outputs": [],
   "source": [
    "#example\n",
    "#retrieveFirmBalancesheet(2482,0) \n",
    "retrieveFirmBalancesheet(0,0)"
   ]
  },
  {
   "cell_type": "markdown",
   "id": "871e0e7b-704d-4dae-afb8-bb3cf02f8d08",
   "metadata": {},
   "source": [
    "# The allFirmData dataframe"
   ]
  },
  {
   "cell_type": "code",
   "execution_count": null,
   "id": "ab9044c4-4d78-48ef-becc-9147da8cdb67",
   "metadata": {},
   "outputs": [],
   "source": [
    "#create a dataframe summing up all the firm dataframes\n",
    "allFirmData=firmData[list(firmData.keys())[0]].copy() #copy the dataframe of first firm; use .copy to create an\n",
    "                                                      #independent copy with a new name\n",
    "\n",
    "for aFirmUid in list(firmData.keys())[1:]: #from the second to the last\n",
    "    allFirmData=allFirmData.add(firmData[aFirmUid])\n",
    "\n",
    "allFirmData.__description__=\"all firms\""
   ]
  },
  {
   "cell_type": "code",
   "execution_count": null,
   "id": "7b151313-4655-4e7a-b8f8-3c216674ccc3",
   "metadata": {},
   "outputs": [],
   "source": [
    "allFirmData"
   ]
  },
  {
   "cell_type": "code",
   "execution_count": null,
   "id": "1d90c283-1bc6-4bb8-a9d4-52d3fd8d62df",
   "metadata": {},
   "outputs": [],
   "source": [
    "allFirmData.__description__"
   ]
  },
  {
   "cell_type": "code",
   "execution_count": null,
   "id": "b5f54910",
   "metadata": {},
   "outputs": [],
   "source": [
    "allFirmData.drop(['firm class type', 'production type'], axis=1).plot()\n",
    "plt.legend(loc='center left', bbox_to_anchor=(1, 0.5))"
   ]
  },
  {
   "cell_type": "code",
   "execution_count": null,
   "id": "8505b722",
   "metadata": {},
   "outputs": [],
   "source": [
    "allFirmData[['gross investment in Q']].plot()"
   ]
  },
  {
   "cell_type": "code",
   "execution_count": null,
   "id": "79e3822c",
   "metadata": {},
   "outputs": [],
   "source": [
    "allFirmData[['total production', 'profits']].plot()"
   ]
  },
  {
   "cell_type": "code",
   "execution_count": null,
   "id": "e83e5a8d",
   "metadata": {},
   "outputs": [],
   "source": [
    "allFirmData[['cost of capital','cost of labor']].plot()"
   ]
  },
  {
   "cell_type": "code",
   "execution_count": null,
   "id": "f0ad8966-0cc7-4aaf-8db3-348cc1c63967",
   "metadata": {},
   "outputs": [],
   "source": [
    "allFirmData[['added value']].plot()"
   ]
  },
  {
   "cell_type": "markdown",
   "id": "2b389689-fcef-4768-8684-8d4bf2e7e910",
   "metadata": {},
   "source": [
    "# Considering groups of firms"
   ]
  },
  {
   "cell_type": "code",
   "execution_count": null,
   "id": "2a420339-cbb8-42ef-b2ca-cb414ecd47de",
   "metadata": {},
   "outputs": [],
   "source": [
    "#summarize a subset of balancesheets of firm with 'firm class type' in a given list\n",
    "def sumBalancesheetsWithAGivenFirmClassType(classList: List):\n",
    "    tmpDict={}\n",
    "    for aFirmUid in list(firmData.keys())[:]:\n",
    "        if firmData[aFirmUid]['firm class type'].loc[0] in classList:\n",
    "            tmpDict[aFirmUid]=firmData[aFirmUid]\n",
    "    print(\"found\",len(tmpDict), \"firms\")\n",
    "    \n",
    "    if tmpDict=={}: return 0 #firms with the required firm class type: not found\n",
    "        \n",
    "    allLocalFirmData=tmpDict[list(tmpDict.keys())[0]].copy() #copy the dataframe of first firm; use .copy to create an\n",
    "                                                              #independent copy with a new name\n",
    "\n",
    "    for aFirmUid in list(tmpDict.keys())[1:]: #from the second to the last\n",
    "        allLocalFirmData=allLocalFirmData.add(tmpDict[aFirmUid])\n",
    "\n",
    "    memo=\"firms of groups\"\n",
    "    for g in classList: memo = memo +\" \"+str(g)\n",
    "    allLocalFirmData.__description__= memo\n",
    "    \n",
    "    return allLocalFirmData\n"
   ]
  },
  {
   "cell_type": "code",
   "execution_count": null,
   "id": "faca6fd2-be4a-4f26-9cb9-53e82db50861",
   "metadata": {},
   "outputs": [],
   "source": [
    "#example with firm class type 0\n",
    "#sumOfBalanceSheetSubset = sumBalancesheetsWithAGivenFirmClassType([0,1])\n",
    "sumOfBalanceSheetSubset = sumBalancesheetsWithAGivenFirmClassType([0])"
   ]
  },
  {
   "cell_type": "code",
   "execution_count": null,
   "id": "635eec37-2d82-45bc-96c1-a4e4ace95530",
   "metadata": {},
   "outputs": [],
   "source": [
    "sumOfBalanceSheetSubset.__description__"
   ]
  },
  {
   "cell_type": "code",
   "execution_count": null,
   "id": "6118a53d-7efc-4b4e-83fd-ae424c07e1e8",
   "metadata": {},
   "outputs": [],
   "source": [
    "sumOfBalanceSheetSubset"
   ]
  },
  {
   "cell_type": "code",
   "execution_count": null,
   "id": "37ef8864",
   "metadata": {},
   "outputs": [],
   "source": [
    "sumOfBalanceSheetSubset.drop(['firm class type'], axis=1).plot()\n",
    "plt.legend(loc='center left', bbox_to_anchor=(1, 0.5))"
   ]
  },
  {
   "cell_type": "code",
   "execution_count": null,
   "id": "1a5e8a37-af70-4f4e-ba48-ea973c5bebc4",
   "metadata": {},
   "outputs": [],
   "source": [
    "sumOfBalanceSheetSubset[['gross investment in Q']].plot()"
   ]
  },
  {
   "cell_type": "code",
   "execution_count": null,
   "id": "3222dbeb",
   "metadata": {},
   "outputs": [],
   "source": [
    "sumOfBalanceSheetSubset[['cost of capital', 'cost of labor']].plot()"
   ]
  },
  {
   "cell_type": "markdown",
   "id": "3882ff59",
   "metadata": {},
   "source": [
    "# The National Economic Balance Table"
   ]
  },
  {
   "cell_type": "code",
   "execution_count": null,
   "id": "cb2153f3",
   "metadata": {},
   "outputs": [],
   "source": [
    "allFirmData['consumptions']=allFirmData['revenuesCons']\n",
    "allFirmData['investments']=allFirmData['revenuesInv']\n",
    "allFirmData[['initial inventories', 'added value', 'consumptions', 'investments',\\\n",
    "             'invGoods in progr. inventories','invGoods inventories',\\\n",
    "             'consGoods in progr. inventories','consGoods inventories']]"
   ]
  },
  {
   "cell_type": "code",
   "execution_count": null,
   "id": "fb12aa1d-ba7b-489d-a714-62f03355f79a",
   "metadata": {},
   "outputs": [],
   "source": [
    "#allFirmData[['initial inventories', 'added value', 'consumptions',\\\n",
    "             #'investments','in progr. inventories','inventories']].plot(figsize=(12,6))\n",
    "\n",
    "allFirmData[['initial inventories', 'added value', 'consumptions',\\\n",
    "             'investments','invGoods inventories', 'invGoods in progr. inventories',\\\n",
    "             'consGoods inventories', 'consGoods in progr. inventories']][24:].plot(figsize=(12,6))\n"
   ]
  },
  {
   "cell_type": "code",
   "execution_count": null,
   "id": "2d857cb5",
   "metadata": {},
   "outputs": [],
   "source": [
    "monthlyData=allFirmData[['initial inventories', 'added value', 'consumptions',\\\n",
    "             'investments','invGoods inventories', 'invGoods in progr. inventories',\\\n",
    "             'consGoods inventories', 'consGoods in progr. inventories']][24:].to_numpy()"
   ]
  },
  {
   "cell_type": "code",
   "execution_count": null,
   "id": "d2c12384-7ef0-4b0e-a7e9-01d3dad8c76f",
   "metadata": {},
   "outputs": [],
   "source": [
    "monthlyData"
   ]
  },
  {
   "cell_type": "code",
   "execution_count": null,
   "id": "538c1979-5ce5-439b-a404-2f90427d8787",
   "metadata": {},
   "outputs": [],
   "source": [
    "plt.plot(monthlyData,label=['initial inventories', 'added value', 'consumptions',\\\n",
    "             'investments','invGoods inventories', 'invGoods in progr. inventories',\\\n",
    "             'consGoods inventories', 'consGoods in progr. inventories'])\n",
    "#plt.legend(loc='upper right')\n",
    "plt.legend(bbox_to_anchor=(1, 1))\n"
   ]
  },
  {
   "cell_type": "code",
   "execution_count": null,
   "id": "517d0189-5692-47d8-a026-735fd3b3f4e7",
   "metadata": {},
   "outputs": [],
   "source": [
    "int(len(monthlyData)/12)"
   ]
  },
  {
   "cell_type": "code",
   "execution_count": null,
   "id": "3748d844-d6f8-4e1a-ac5c-021447d91465",
   "metadata": {},
   "outputs": [],
   "source": [
    "len(monthlyData[0])"
   ]
  },
  {
   "cell_type": "code",
   "execution_count": null,
   "id": "97b4527a-2091-469f-be09-7308896d8a93",
   "metadata": {},
   "outputs": [],
   "source": [
    "yearlyData = np.zeros((int(len(monthlyData)/12),len(monthlyData[0])))"
   ]
  },
  {
   "cell_type": "code",
   "execution_count": null,
   "id": "25e71e81-4046-4e68-b0bf-fd7ededa50a9",
   "metadata": {},
   "outputs": [],
   "source": [
    "#stock (initial or final) or flow\n",
    "sf=['si','f','f','f','sf','sf','sf','sf']"
   ]
  },
  {
   "cell_type": "code",
   "execution_count": null,
   "id": "2f248bca-1891-4246-a0f4-c1df895e12d0",
   "metadata": {},
   "outputs": [],
   "source": [
    "for i in range(int(len(monthlyData)/12)):\n",
    "    for j in range(len(monthlyData[0])):  #a row\n",
    "        #the 1st value or the sum of 12 values or the 12th value\n",
    "        ourRange=range(12*i,12*i+12) #flow\n",
    "        if sf[j]=='si': ourRange=range(12*i,1+12*i)\n",
    "        if sf[j]=='sf': ourRange=range(11+12*i,12+12*i)\n",
    "        for k in ourRange:   \n",
    "            yearlyData[i][j]+=monthlyData[k][j]"
   ]
  },
  {
   "cell_type": "code",
   "execution_count": null,
   "id": "d0fcaeed-c0f8-4257-841f-3a588f1e3df0",
   "metadata": {},
   "outputs": [],
   "source": [
    "np.set_printoptions(suppress=True)\n",
    "yearlyData"
   ]
  },
  {
   "cell_type": "code",
   "execution_count": null,
   "id": "ebb0e37e-f032-4a9c-ae9f-fe00463971d5",
   "metadata": {},
   "outputs": [],
   "source": [
    "plt.plot(yearlyData,label=['initial inventories', 'added value', 'consumptions',\\\n",
    "             'investments','invGoods inventories', 'invGoods in progr. inventories',\\\n",
    "             'consGoods inventories', 'consGoods in progr. inventories'])\n",
    "plt.title(\"Yearly National Accounts \"+ folder)\n",
    "plt.xlabel(\"years\")\n",
    "#plt.legend(loc='upper right')\n",
    "plt.legend(bbox_to_anchor=(1, 1))\n",
    "os.chdir(\"../\"+folder+\".0\")\n",
    "plt.savefig(\"_\"+folder+\"_YearlyNationalAccounts.jpg\", dpi=180, bbox_inches='tight')"
   ]
  },
  {
   "cell_type": "code",
   "execution_count": null,
   "id": "0a375416-0903-4ab8-b0dd-92e67a654b31",
   "metadata": {},
   "outputs": [],
   "source": []
  }
 ],
 "metadata": {
  "kernelspec": {
   "display_name": "Python 3 (ipykernel)",
   "language": "python",
   "name": "python3"
  },
  "language_info": {
   "codemirror_mode": {
    "name": "ipython",
    "version": 3
   },
   "file_extension": ".py",
   "mimetype": "text/x-python",
   "name": "python",
   "nbconvert_exporter": "python",
   "pygments_lexer": "ipython3",
   "version": "3.11.7"
  }
 },
 "nbformat": 4,
 "nbformat_minor": 5
}
