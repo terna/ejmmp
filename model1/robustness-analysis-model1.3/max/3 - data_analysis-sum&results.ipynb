{
 "cells": [
  {
   "cell_type": "code",
   "execution_count": null,
   "id": "a340249a-e3e6-4241-8f6d-87ca19fe3be8",
   "metadata": {},
   "outputs": [],
   "source": [
    "import numpy as np\n",
    "import matplotlib.pyplot as plt\n",
    "%matplotlib inline"
   ]
  },
  {
   "cell_type": "code",
   "execution_count": null,
   "id": "3dbad0a1-c5a5-4a21-92ad-cc4756e6c2dd",
   "metadata": {},
   "outputs": [],
   "source": [
    "fileBase=\"./yearlyData/PlannerPropMax\"\n",
    "num_of_repetitions = 100"
   ]
  },
  {
   "cell_type": "code",
   "execution_count": null,
   "id": "e4585d97-795a-453d-966f-b877de3a0ba5",
   "metadata": {},
   "outputs": [],
   "source": [
    "yearlyDataAV=np.zeros((20,100))\n",
    "yearlyDataCo=np.zeros((20,100))\n",
    "yearlyDataIn=np.zeros((20,100))"
   ]
  },
  {
   "cell_type": "code",
   "execution_count": null,
   "id": "7110e7a1-d29c-41e7-98da-0fddc3b79944",
   "metadata": {},
   "outputs": [],
   "source": [
    "for y in range(num_of_repetitions):\n",
    "    yearlyData=np.load(fileBase+str(y)+\".npy\")\n",
    "    yearlyDataAV[:,y]=yearlyData[:,0]\n",
    "    yearlyDataCo[:,y]=yearlyData[:,1]\n",
    "    yearlyDataIn[:,y]=yearlyData[:,2]    "
   ]
  },
  {
   "cell_type": "code",
   "execution_count": null,
   "id": "1c761fe7-04dc-476f-adff-670e3b649497",
   "metadata": {},
   "outputs": [],
   "source": [
    "yearlyDataAV"
   ]
  },
  {
   "cell_type": "code",
   "execution_count": null,
   "id": "ea17b39b-31bc-4969-af6f-a39e68de2337",
   "metadata": {},
   "outputs": [],
   "source": [
    "yearlyDataCo"
   ]
  },
  {
   "cell_type": "code",
   "execution_count": null,
   "id": "5786cfe6-7fbc-4c76-a057-5e17e1b7f38a",
   "metadata": {},
   "outputs": [],
   "source": [
    "yearlyDataIn"
   ]
  },
  {
   "cell_type": "code",
   "execution_count": null,
   "id": "fadc1e4c-89e1-4008-b077-70afd5d4dd2a",
   "metadata": {},
   "outputs": [],
   "source": [
    "results=np.zeros((20,9))"
   ]
  },
  {
   "cell_type": "code",
   "execution_count": null,
   "id": "b956baba-f5b2-4dbc-aeb1-d3f0e0e2a1d9",
   "metadata": {},
   "outputs": [],
   "source": [
    "for i in range(20):\n",
    "    results[i,0]=yearlyDataAV[i,:].mean()\n",
    "    results[i,1]=yearlyDataAV[i,:].mean()+2*yearlyDataAV[i,:].std()\n",
    "    results[i,2]=yearlyDataAV[i,:].mean()-2*yearlyDataAV[i,:].std()\n",
    "    results[i,3]=yearlyDataCo[i,:].mean()\n",
    "    results[i,4]=yearlyDataCo[i,:].mean()+2*yearlyDataCo[i,:].std()\n",
    "    results[i,5]=yearlyDataCo[i,:].mean()-2*yearlyDataCo[i,:].std()\n",
    "    results[i,6]=yearlyDataIn[i,:].mean()\n",
    "    results[i,7]=yearlyDataIn[i,:].mean()+2*yearlyDataIn[i,:].std()\n",
    "    results[i,8]=yearlyDataIn[i,:].mean()-2*yearlyDataIn[i,:].std()"
   ]
  },
  {
   "cell_type": "code",
   "execution_count": null,
   "id": "c5ba57cc-c791-48e7-8430-0d282ffc47cc",
   "metadata": {},
   "outputs": [],
   "source": [
    "#results"
   ]
  },
  {
   "cell_type": "code",
   "execution_count": null,
   "id": "05fbbc03-f056-489d-824f-a13d05865f15",
   "metadata": {},
   "outputs": [],
   "source": [
    "plt.suptitle(\"Yearly National Accounts PlannerPropMax1\")\n",
    "plt.plot(results[:,0],color='darkorange',linewidth=1,label=\"added value\")\n",
    "plt.plot(results[:,1],color='darkorange',linestyle='dotted',linewidth=1,label=\"added value + 2std\")\n",
    "plt.plot(results[:,2],color='darkorange',linestyle='dashed',linewidth=1,label=\"added value - 2std\")\n",
    "plt.plot(results[:,3],color='green',linewidth=1,label=\"consumptions\")\n",
    "plt.plot(results[:,4],color='green',linestyle='dotted',linewidth=1,label=\"consumptions + 2std\")\n",
    "plt.plot(results[:,5],color='green',linestyle='dashed',linewidth=1,label=\"consumptions - 2std\")\n",
    "plt.plot(results[:,6],color='red',linewidth=1,label=\"investments\")\n",
    "plt.plot(results[:,7],color='red',linestyle='dotted',linewidth=1,label=\"investments + 2std\")\n",
    "plt.plot(results[:,8],color='red',linestyle='dashed',linewidth=1,label=\"investments - 2std\")\n",
    "plt.plot(0)\n",
    "plt.xlabel(\"Years\")\n",
    "plt.legend(bbox_to_anchor=(1, 1), loc='upper left', ncol=1)\n",
    "plt.savefig(\"_YearlyNationalAccountsMax.jpg\", dpi=180, bbox_inches='tight')"
   ]
  },
  {
   "cell_type": "code",
   "execution_count": null,
   "id": "e1e5b2ff-721d-466a-874b-8273b0f48cb4",
   "metadata": {},
   "outputs": [],
   "source": []
  }
 ],
 "metadata": {
  "kernelspec": {
   "display_name": "Python 3 (ipykernel)",
   "language": "python",
   "name": "python3"
  },
  "language_info": {
   "codemirror_mode": {
    "name": "ipython",
    "version": 3
   },
   "file_extension": ".py",
   "mimetype": "text/x-python",
   "name": "python",
   "nbconvert_exporter": "python",
   "pygments_lexer": "ipython3",
   "version": "3.11.7"
  }
 },
 "nbformat": 4,
 "nbformat_minor": 5
}
