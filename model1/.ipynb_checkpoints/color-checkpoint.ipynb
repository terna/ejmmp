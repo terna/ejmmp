{
 "cells": [
  {
   "cell_type": "markdown",
   "id": "1b0b4098-c960-44ad-8aac-0f982e856a6b",
   "metadata": {},
   "source": [
    "# Testo Colorato\n",
    "\n",
    "- Metodo HTML:  \n",
    "  <span style=\"color:purple;\">Testo viola</span>  \n",
    "  <span style=\"background-color: lightgray;\">Sfondo grigio</span>  \n",
    "  <span style=\"color:red; background-color: yellow;\">Sfondo giallo e testo rosso  \n",
    "  su più righe</span>\n",
    "\n",
    "- Metodo LaTeX:  \n",
    "  $\\textcolor{orange}{\\text{Arancione}}$  \n",
    "  $\\textcolor{#00FF00}{\\text{Verde acceso}}$"
   ]
  },
  {
   "cell_type": "code",
   "execution_count": null,
   "id": "62e90c14-8027-4a0f-ad17-52e7c1646fc1",
   "metadata": {},
   "outputs": [],
   "source": [
    "\n",
    "\n",
    "\n",
    "\n",
    "\n"
   ]
  }
 ],
 "metadata": {
  "kernelspec": {
   "display_name": "Python 3 (ipykernel)",
   "language": "python",
   "name": "python3"
  },
  "language_info": {
   "codemirror_mode": {
    "name": "ipython",
    "version": 3
   },
   "file_extension": ".py",
   "mimetype": "text/x-python",
   "name": "python",
   "nbconvert_exporter": "python",
   "pygments_lexer": "ipython3",
   "version": "3.11.7"
  }
 },
 "nbformat": 4,
 "nbformat_minor": 5
}
