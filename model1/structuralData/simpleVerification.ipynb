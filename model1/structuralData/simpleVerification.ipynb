{
 "cells": [
  {
   "cell_type": "code",
   "execution_count": 1,
   "id": "23d52c37-bd0f-4763-8b65-54cc64d26f49",
   "metadata": {},
   "outputs": [
    {
     "name": "stdout",
     "output_type": "stream",
     "text": [
      "AFF Firms 10,000,000\n",
      "AFF workers 9,000,000\n",
      "AFF e. comp. 67,068 millions\n",
      "Firms 21,337,628\n",
      "workers 159,436,359\n",
      "e. comp. 6,933,728,841,334\n"
     ]
    }
   ],
   "source": [
    "import csv\n",
    "import sys\n",
    "\n",
    "totalFirms=20789413\n",
    "countFirms=0\n",
    "workers=0\n",
    "wageSum=0\n",
    "\n",
    "#importing csv file containing info about firms \n",
    "with open(\"ff_with_class_limits.csv\", newline='') as csvfile:\n",
    "    firmReader= csv.reader(csvfile, delimiter=',')#, quoting=csv.QUOTE_NONNUMERIC)        \n",
    "    rowNumber=-1 #to skip the row of the headers\n",
    "    for row in firmReader:\n",
    "        if row[4]=='': row[4]=0\n",
    "        if rowNumber>=0:\n",
    "            countFirms+=totalFirms*float(row[4])\n",
    "            w=totalFirms*float(row[4])*(int(row[7])+(int(float(row[8]))-int(row[7]))/2)\n",
    "            if rowNumber<=8: w=totalFirms*float(row[4])*0.9\n",
    "            workers+=w\n",
    "            wageSum+=w*float(row[14])\n",
    "        if rowNumber==8:\n",
    "            print(f\"AFF Firms {countFirms:,.0f}\")\n",
    "            print(f\"AFF workers {workers:,.0f}\")\n",
    "            print(f\"AFF e. comp. {wageSum/1000000:,.0f} millions\")\n",
    "        rowNumber += 1\n",
    "\n",
    "print(f\"Firms {countFirms:,.0f}\")\n",
    "print(f\"workers {workers:,.0f}\")\n",
    "print(f\"e. comp. {wageSum:,.0f}\")"
   ]
  },
  {
   "cell_type": "code",
   "execution_count": 3,
   "id": "e957db4b-fe83-445e-aa1a-5ccd5ab2116a",
   "metadata": {},
   "outputs": [
    {
     "data": {
      "text/plain": [
       "1.0263699124164785"
      ]
     },
     "execution_count": 3,
     "metadata": {},
     "output_type": "execute_result"
    }
   ],
   "source": [
    "21337628/20789413"
   ]
  },
  {
   "cell_type": "code",
   "execution_count": null,
   "id": "87340ca3-cc85-4afe-a8d0-078a217ecf88",
   "metadata": {},
   "outputs": [],
   "source": []
  }
 ],
 "metadata": {
  "kernelspec": {
   "display_name": "Python 3 (ipykernel)",
   "language": "python",
   "name": "python3"
  },
  "language_info": {
   "codemirror_mode": {
    "name": "ipython",
    "version": 3
   },
   "file_extension": ".py",
   "mimetype": "text/x-python",
   "name": "python",
   "nbconvert_exporter": "python",
   "pygments_lexer": "ipython3",
   "version": "3.11.7"
  }
 },
 "nbformat": 4,
 "nbformat_minor": 5
}
