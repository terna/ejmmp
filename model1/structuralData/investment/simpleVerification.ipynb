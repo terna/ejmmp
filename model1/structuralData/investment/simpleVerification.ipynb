{
 "cells": [
  {
   "cell_type": "code",
   "execution_count": 1,
   "id": "23d52c37-bd0f-4763-8b65-54cc64d26f49",
   "metadata": {},
   "outputs": [
    {
     "name": "stdout",
     "output_type": "stream",
     "text": [
      "AFF share 0.45806\n",
      "AFF firms 9,999,996\n",
      "AFF workers 8,999,996\n",
      "AFF emp. comp. 67,068 millions\n",
      "Share sum 1.00000\n",
      "Firms 21,831,361\n",
      "Workers 161,728,631\n",
      "Empl. comp. 7,448,335 millions\n"
     ]
    }
   ],
   "source": [
    "import csv\n",
    "import sys\n",
    "\n",
    "totalFirms=21831360\n",
    "countFirms=0\n",
    "countFirmsSpecial=0\n",
    "workers=0\n",
    "workersSpecial=0\n",
    "wageSum=0\n",
    "wageSumSpecial=0\n",
    "shareSum=0\n",
    "\n",
    "#importing csv file containing info about firms \n",
    "with open(\"ff_with_class_limits.csv\", newline='') as csvfile:\n",
    "    firmReader= csv.reader(csvfile, delimiter=',')#, quoting=csv.QUOTE_NONNUMERIC)        \n",
    "    rowNumber=-1 #to skip the row of the headers\n",
    "    for row in firmReader:\n",
    "        if row[4]=='': row[4]=0\n",
    "        if rowNumber>=0:\n",
    "            shareSum+=float(row[4])\n",
    "            countFirms+=totalFirms*float(row[4])\n",
    "            \n",
    "            w=totalFirms*float(row[4])*(int(row[7])+(int(row[8])-int(row[7]))/2)\n",
    "            \n",
    "            if rowNumber<=8: w=totalFirms*float(row[4])*0.9\n",
    "            \n",
    "            workers+=w\n",
    "            wageSum+=w*float(row[14])\n",
    "\n",
    "        if rowNumber==8:\n",
    "            print(f\"AFF share {shareSum:,.5f}\")\n",
    "            print(f\"AFF firms {countFirms:,.0f}\")\n",
    "            print(f\"AFF workers {workers:,.0f}\")\n",
    "            print(f\"AFF emp. comp. {wageSum/1000000:,.0f} millions\")\n",
    "        rowNumber += 1\n",
    "\n",
    "print(f\"Share sum {shareSum:,.5f}\")\n",
    "print(f\"Firms {countFirms:,.0f}\")\n",
    "print(f\"Workers {workers:,.0f}\")\n",
    "print(f\"Empl. comp. {wageSum/1000000:,.0f} millions\")"
   ]
  },
  {
   "cell_type": "code",
   "execution_count": 2,
   "id": "e957db4b-fe83-445e-aa1a-5ccd5ab2116a",
   "metadata": {},
   "outputs": [
    {
     "data": {
      "text/plain": [
       "1.000000041787993"
      ]
     },
     "execution_count": 2,
     "metadata": {},
     "output_type": "execute_result"
    }
   ],
   "source": [
    "countFirms/totalFirms"
   ]
  },
  {
   "cell_type": "code",
   "execution_count": 3,
   "id": "87340ca3-cc85-4afe-a8d0-078a217ecf88",
   "metadata": {},
   "outputs": [
    {
     "data": {
      "text/plain": [
       "0.4580566671064011"
      ]
     },
     "execution_count": 3,
     "metadata": {},
     "output_type": "execute_result"
    }
   ],
   "source": [
    "10000000/totalFirms"
   ]
  },
  {
   "cell_type": "code",
   "execution_count": 6,
   "id": "2fa1bada-d0e9-4eb1-9d92-4ad19291a812",
   "metadata": {},
   "outputs": [
    {
     "data": {
      "text/plain": [
       "1.0001736455291823"
      ]
     },
     "execution_count": 6,
     "metadata": {},
     "output_type": "execute_result"
    }
   ],
   "source": [
    "(workers-9000000)/152702115"
   ]
  },
  {
   "cell_type": "code",
   "execution_count": 7,
   "id": "bea93ca8-3899-4122-97f4-000f7476a664",
   "metadata": {},
   "outputs": [
    {
     "data": {
      "text/plain": [
       "0.00017432691652441434"
      ]
     },
     "execution_count": 7,
     "metadata": {},
     "output_type": "execute_result"
    }
   ],
   "source": [
    "# WAGES vs naio total of comp. of empl.\n",
    "wageSum/(7447036.79*1000000) - 1"
   ]
  },
  {
   "cell_type": "code",
   "execution_count": null,
   "id": "ab6b049b-8629-421c-b0d4-f9115adef931",
   "metadata": {},
   "outputs": [],
   "source": []
  }
 ],
 "metadata": {
  "kernelspec": {
   "display_name": "Python 3 (ipykernel)",
   "language": "python",
   "name": "python3"
  },
  "language_info": {
   "codemirror_mode": {
    "name": "ipython",
    "version": 3
   },
   "file_extension": ".py",
   "mimetype": "text/x-python",
   "name": "python",
   "nbconvert_exporter": "python",
   "pygments_lexer": "ipython3",
   "version": "3.11.7"
  }
 },
 "nbformat": 4,
 "nbformat_minor": 5
}
