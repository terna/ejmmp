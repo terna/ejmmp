{
 "cells": [
  {
   "cell_type": "code",
   "execution_count": 1,
   "id": "31fbd001-6a5e-4c0e-b549-b5a86afb0de6",
   "metadata": {},
   "outputs": [],
   "source": [
    "import pickle\n",
    "import numpy as np\n",
    "\n",
    "with open('naio_io.xp', 'rb') as f:\n",
    "    intermediateInputs = pickle.load(f)\n",
    "\n",
    "intermediateInputs = intermediateInputs.to_numpy()"
   ]
  },
  {
   "cell_type": "code",
   "execution_count": 2,
   "id": "13e82b56-6c95-44a9-8bbb-4f18c6881d0d",
   "metadata": {},
   "outputs": [
    {
     "data": {
      "text/plain": [
       "array([['Products of agriculture, hunting and related services',\n",
       "        0.2866862280641025, 0.025992185725411992, ...,\n",
       "        0.001417995259185697, 5.724057498157568e-06, nan],\n",
       "       ['Products of forestry, logging and related services',\n",
       "        0.0027512846609114633, 0.4927488258665907, ...,\n",
       "        0.00012385070121885287, 0.0, nan],\n",
       "       ['Fish and other fishing products; aquaculture products; support services to fishing',\n",
       "        5.997875073637734e-05, 0.0001634642988862973, ...,\n",
       "        2.0006651735353156e-05, 0.0, nan],\n",
       "       ...,\n",
       "       ['Other personal services', 0.00038222635964151454,\n",
       "        0.0003895899123456752, ..., 0.09790683740660823, 0.0, nan],\n",
       "       ['Services of households as employers; undifferentiated goods and services produced by households for own use',\n",
       "        2.865878874775709e-07, 0.0004164934115373784, ...,\n",
       "        3.8107908067339344e-07, 0.0, nan],\n",
       "       ['Services provided by extraterritorial organisations and bodies',\n",
       "        2.5915733253328913e-05, 0.00010012188306785709, ...,\n",
       "        4.115654071272649e-05, 0.0, nan]], dtype=object)"
      ]
     },
     "execution_count": 2,
     "metadata": {},
     "output_type": "execute_result"
    }
   ],
   "source": [
    "intermediateInputs"
   ]
  },
  {
   "cell_type": "code",
   "execution_count": 10,
   "id": "df5e1acd-4b92-4f73-af94-b2c87f4b495c",
   "metadata": {},
   "outputs": [],
   "source": [
    "L=[]\n",
    "j=4\n",
    "for i in range(65):\n",
    "    L.append(intermediateInputs[i,j])"
   ]
  },
  {
   "cell_type": "code",
   "execution_count": 11,
   "id": "959780e9-8f9e-4c88-b050-59f0d15e44ce",
   "metadata": {},
   "outputs": [
    {
     "data": {
      "text/plain": [
       "[0.0003600964744855963,\n",
       " 0.00108274017078768,\n",
       " 2.1076427045663307e-05,\n",
       " 0.16188215434414568,\n",
       " 0.0048209467661735434,\n",
       " 0.002147181428171373,\n",
       " 0.005754027966621475,\n",
       " 0.0036177932098614154,\n",
       " 0.0005463532716333185,\n",
       " 0.030083740402464993,\n",
       " 0.025954884682535092,\n",
       " 2.679483748440916e-05,\n",
       " 0.007395538528852321,\n",
       " 0.019198501057579163,\n",
       " 0.009296828308157623,\n",
       " 0.020611111819104785,\n",
       " 0.0012337062063705708,\n",
       " 0.004405626785165201,\n",
       " 0.025198420673066713,\n",
       " 0.0013965992122971314,\n",
       " 0.0010492466239321685,\n",
       " 0.0010198376559614757,\n",
       " 0.054651828862026526,\n",
       " 0.1349075953888045,\n",
       " 0.003204923976183964,\n",
       " 0.041894381939495295,\n",
       " 0.029514023339610514,\n",
       " 0.012580502965240888,\n",
       " 0.05747917436609786,\n",
       " 0.03534484138926657,\n",
       " 0.07068788556382384,\n",
       " 0.007929311297520399,\n",
       " 0.0015478920141908073,\n",
       " 0.04466617717073311,\n",
       " 0.0025149569109604282,\n",
       " 0.012353563762400373,\n",
       " 0.013564232943860569,\n",
       " 0.0004690730391325531,\n",
       " 0.0067473975514093275,\n",
       " 0.011459857902402091,\n",
       " 0.023260859833264223,\n",
       " 0.006093701546682979,\n",
       " 0.002975534026012559,\n",
       " 0.0,\n",
       " 0.015114412322226874,\n",
       " 0.03711460772848073,\n",
       " 0.04027296750537776,\n",
       " 0.0009785017176471126,\n",
       " 0.004592537114934494,\n",
       " 0.007276268825415623,\n",
       " 0.025377978760843332,\n",
       " 0.014986973461020537,\n",
       " 0.0016369358338798499,\n",
       " 0.02776402636219889,\n",
       " 0.008363747107709691,\n",
       " 0.003740167193250576,\n",
       " 0.0014109769299716923,\n",
       " 8.577615658118786e-05,\n",
       " 0.0003259493950085139,\n",
       " 0.0016253356298469657,\n",
       " 0.0019962153925884825,\n",
       " 0.0015496892289001273,\n",
       " 0.0010672187710253696,\n",
       " 8.169157769636941e-07,\n",
       " 7.319565361594699e-05]"
      ]
     },
     "execution_count": 11,
     "metadata": {},
     "output_type": "execute_result"
    }
   ],
   "source": [
    "L"
   ]
  },
  {
   "cell_type": "code",
   "execution_count": 12,
   "id": "c3d49134-0fad-421d-8b05-34e3e587e04b",
   "metadata": {},
   "outputs": [],
   "source": [
    "np.set_printoptions(threshold=np.inf)\n",
    "#print(intermediateInputs)"
   ]
  },
  {
   "cell_type": "code",
   "execution_count": 13,
   "id": "81690c1c-8c8f-4c84-8c1b-f25c153201b5",
   "metadata": {},
   "outputs": [
    {
     "data": {
      "text/plain": [
       "list"
      ]
     },
     "execution_count": 13,
     "metadata": {},
     "output_type": "execute_result"
    }
   ],
   "source": [
    "type(L)"
   ]
  },
  {
   "cell_type": "code",
   "execution_count": 14,
   "id": "bde135ac-b432-4e79-9987-ad540baf8967",
   "metadata": {},
   "outputs": [
    {
     "data": {
      "text/plain": [
       "numpy.float64"
      ]
     },
     "execution_count": 14,
     "metadata": {},
     "output_type": "execute_result"
    }
   ],
   "source": [
    "type(L[1])"
   ]
  },
  {
   "cell_type": "code",
   "execution_count": null,
   "id": "e33dbdc5-4fe2-4c34-8af4-ac0f071a2428",
   "metadata": {},
   "outputs": [],
   "source": []
  }
 ],
 "metadata": {
  "kernelspec": {
   "display_name": "Python 3 (ipykernel)",
   "language": "python",
   "name": "python3"
  },
  "language_info": {
   "codemirror_mode": {
    "name": "ipython",
    "version": 3
   },
   "file_extension": ".py",
   "mimetype": "text/x-python",
   "name": "python",
   "nbconvert_exporter": "python",
   "pygments_lexer": "ipython3",
   "version": "3.11.7"
  }
 },
 "nbformat": 4,
 "nbformat_minor": 5
}
