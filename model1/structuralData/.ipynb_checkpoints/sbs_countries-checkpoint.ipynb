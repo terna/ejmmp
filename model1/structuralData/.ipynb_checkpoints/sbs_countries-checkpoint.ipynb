{
 "cells": [
  {
   "cell_type": "code",
   "execution_count": 1,
   "id": "50621cdb-113d-4082-bb7b-e9626162fbfb",
   "metadata": {},
   "outputs": [],
   "source": [
    "import pandas as pd\n",
    "import numpy as np\n",
    "import csv"
   ]
  },
  {
   "cell_type": "code",
   "execution_count": 2,
   "id": "88942ec6-86f8-4e19-addd-04936887edc1",
   "metadata": {},
   "outputs": [],
   "source": [
    "pd.set_option('display.max_columns', 1000)\n",
    "pd.set_option('display.max_rows', 1000)\n",
    "pd.set_option(\"future.no_silent_downcasting\", True)\n"
   ]
  },
  {
   "cell_type": "code",
   "execution_count": 3,
   "id": "4aad716f-dafe-448a-86ac-16a985df7c65",
   "metadata": {},
   "outputs": [],
   "source": [
    "#sbs_austria = pd.read_excel('sbs_austria.xlsx', sheet_name = 'Sheet 1')\n",
    "eu27_list = [\n",
    "    \"sbs_austria\", \"sbs_belgium\", \"sbs_bulgaria\", \"sbs_croatia\",\n",
    "    \"sbs_cyprus\", \"sbs_czechia\", \"sbs_denmark\", \"sbs_estonia\",\n",
    "    \"sbs_finland\", \"sbs_france\", \"sbs_germany\", \"sbs_greece\",\n",
    "    \"sbs_hungary\", \"sbs_ireland\", \"sbs_italy\", \"sbs_latvia\",\n",
    "    \"sbs_lithuania\", \"sbs_luxembourg\", \"sbs_malta\", \"sbs_netherlands\",\n",
    "    \"sbs_poland\", \"sbs_portugal\", \"sbs_romania\", \"sbs_slovakia\",\n",
    "    \"sbs_slovenia\", \"sbs_spain\", \"sbs_sweden\"\n",
    "]"
   ]
  },
  {
   "cell_type": "code",
   "execution_count": 4,
   "id": "bc2c5ab4-99cd-4a11-bb64-5042c79af99b",
   "metadata": {},
   "outputs": [
    {
     "ename": "FileNotFoundError",
     "evalue": "[Errno 2] No such file or directory: '../mini_naio.xp'",
     "output_type": "error",
     "traceback": [
      "\u001b[0;31m---------------------------------------------------------------------------\u001b[0m",
      "\u001b[0;31mFileNotFoundError\u001b[0m                         Traceback (most recent call last)",
      "Cell \u001b[0;32mIn[4], line 1\u001b[0m\n\u001b[0;32m----> 1\u001b[0m mini_naio \u001b[38;5;241m=\u001b[39m \u001b[43mpd\u001b[49m\u001b[38;5;241;43m.\u001b[39;49m\u001b[43mread_pickle\u001b[49m\u001b[43m(\u001b[49m\u001b[38;5;124;43m'\u001b[39;49m\u001b[38;5;124;43m../mini_naio.xp\u001b[39;49m\u001b[38;5;124;43m'\u001b[39;49m\u001b[43m)\u001b[49m\n\u001b[1;32m      3\u001b[0m sbs_countries \u001b[38;5;241m=\u001b[39m []\n\u001b[1;32m      4\u001b[0m country_names \u001b[38;5;241m=\u001b[39m []\n",
      "File \u001b[0;32m~/.local/lib/python3.10/site-packages/pandas/io/pickle.py:185\u001b[0m, in \u001b[0;36mread_pickle\u001b[0;34m(filepath_or_buffer, compression, storage_options)\u001b[0m\n\u001b[1;32m    123\u001b[0m \u001b[38;5;250m\u001b[39m\u001b[38;5;124;03m\"\"\"\u001b[39;00m\n\u001b[1;32m    124\u001b[0m \u001b[38;5;124;03mLoad pickled pandas object (or any object) from file.\u001b[39;00m\n\u001b[1;32m    125\u001b[0m \n\u001b[0;32m   (...)\u001b[0m\n\u001b[1;32m    182\u001b[0m \u001b[38;5;124;03m4    4    9\u001b[39;00m\n\u001b[1;32m    183\u001b[0m \u001b[38;5;124;03m\"\"\"\u001b[39;00m\n\u001b[1;32m    184\u001b[0m excs_to_catch \u001b[38;5;241m=\u001b[39m (\u001b[38;5;167;01mAttributeError\u001b[39;00m, \u001b[38;5;167;01mImportError\u001b[39;00m, \u001b[38;5;167;01mModuleNotFoundError\u001b[39;00m, \u001b[38;5;167;01mTypeError\u001b[39;00m)\n\u001b[0;32m--> 185\u001b[0m \u001b[38;5;28;01mwith\u001b[39;00m \u001b[43mget_handle\u001b[49m\u001b[43m(\u001b[49m\n\u001b[1;32m    186\u001b[0m \u001b[43m    \u001b[49m\u001b[43mfilepath_or_buffer\u001b[49m\u001b[43m,\u001b[49m\n\u001b[1;32m    187\u001b[0m \u001b[43m    \u001b[49m\u001b[38;5;124;43m\"\u001b[39;49m\u001b[38;5;124;43mrb\u001b[39;49m\u001b[38;5;124;43m\"\u001b[39;49m\u001b[43m,\u001b[49m\n\u001b[1;32m    188\u001b[0m \u001b[43m    \u001b[49m\u001b[43mcompression\u001b[49m\u001b[38;5;241;43m=\u001b[39;49m\u001b[43mcompression\u001b[49m\u001b[43m,\u001b[49m\n\u001b[1;32m    189\u001b[0m \u001b[43m    \u001b[49m\u001b[43mis_text\u001b[49m\u001b[38;5;241;43m=\u001b[39;49m\u001b[38;5;28;43;01mFalse\u001b[39;49;00m\u001b[43m,\u001b[49m\n\u001b[1;32m    190\u001b[0m \u001b[43m    \u001b[49m\u001b[43mstorage_options\u001b[49m\u001b[38;5;241;43m=\u001b[39;49m\u001b[43mstorage_options\u001b[49m\u001b[43m,\u001b[49m\n\u001b[1;32m    191\u001b[0m \u001b[43m\u001b[49m\u001b[43m)\u001b[49m \u001b[38;5;28;01mas\u001b[39;00m handles:\n\u001b[1;32m    192\u001b[0m     \u001b[38;5;66;03m# 1) try standard library Pickle\u001b[39;00m\n\u001b[1;32m    193\u001b[0m     \u001b[38;5;66;03m# 2) try pickle_compat (older pandas version) to handle subclass changes\u001b[39;00m\n\u001b[1;32m    194\u001b[0m     \u001b[38;5;66;03m# 3) try pickle_compat with latin-1 encoding upon a UnicodeDecodeError\u001b[39;00m\n\u001b[1;32m    196\u001b[0m     \u001b[38;5;28;01mtry\u001b[39;00m:\n\u001b[1;32m    197\u001b[0m         \u001b[38;5;66;03m# TypeError for Cython complaints about object.__new__ vs Tick.__new__\u001b[39;00m\n\u001b[1;32m    198\u001b[0m         \u001b[38;5;28;01mtry\u001b[39;00m:\n",
      "File \u001b[0;32m~/.local/lib/python3.10/site-packages/pandas/io/common.py:882\u001b[0m, in \u001b[0;36mget_handle\u001b[0;34m(path_or_buf, mode, encoding, compression, memory_map, is_text, errors, storage_options)\u001b[0m\n\u001b[1;32m    873\u001b[0m         handle \u001b[38;5;241m=\u001b[39m \u001b[38;5;28mopen\u001b[39m(\n\u001b[1;32m    874\u001b[0m             handle,\n\u001b[1;32m    875\u001b[0m             ioargs\u001b[38;5;241m.\u001b[39mmode,\n\u001b[0;32m   (...)\u001b[0m\n\u001b[1;32m    878\u001b[0m             newline\u001b[38;5;241m=\u001b[39m\u001b[38;5;124m\"\u001b[39m\u001b[38;5;124m\"\u001b[39m,\n\u001b[1;32m    879\u001b[0m         )\n\u001b[1;32m    880\u001b[0m     \u001b[38;5;28;01melse\u001b[39;00m:\n\u001b[1;32m    881\u001b[0m         \u001b[38;5;66;03m# Binary mode\u001b[39;00m\n\u001b[0;32m--> 882\u001b[0m         handle \u001b[38;5;241m=\u001b[39m \u001b[38;5;28;43mopen\u001b[39;49m\u001b[43m(\u001b[49m\u001b[43mhandle\u001b[49m\u001b[43m,\u001b[49m\u001b[43m \u001b[49m\u001b[43mioargs\u001b[49m\u001b[38;5;241;43m.\u001b[39;49m\u001b[43mmode\u001b[49m\u001b[43m)\u001b[49m\n\u001b[1;32m    883\u001b[0m     handles\u001b[38;5;241m.\u001b[39mappend(handle)\n\u001b[1;32m    885\u001b[0m \u001b[38;5;66;03m# Convert BytesIO or file objects passed with an encoding\u001b[39;00m\n",
      "\u001b[0;31mFileNotFoundError\u001b[0m: [Errno 2] No such file or directory: '../mini_naio.xp'"
     ]
    }
   ],
   "source": [
    "mini_naio = pd.read_pickle('../mini_naio.xp')\n",
    "\n",
    "sbs_countries = []\n",
    "country_names = []\n",
    "\n",
    "for name in eu27_list:\n",
    "    sbs_name = pd.read_excel(name+'.xlsx', sheet_name = 'Sheet 1')\n",
    "\n",
    "    country_name = sbs_name.iloc[5,2]\n",
    "    country_names.append(country_name)\n",
    "    sbs_name = sbs_name.iloc[8:90]\n",
    "    sbs_name = sbs_name.reset_index(drop=True)\n",
    "    sbs_name.columns = sbs_name.iloc[0,:]\n",
    "    sbs_name = sbs_name.drop(0)\n",
    "    sbs_name = sbs_name.drop(1)\n",
    "    sbs_name = sbs_name.dropna(axis=1, how=\"all\")\n",
    "    sbs_name = sbs_name.replace(\":\", np.nan)\n",
    "    sbs_name = sbs_name.reset_index(drop=True)\n",
    "    sbs_name = sbs_name.rename(columns={\"SIZE_EMP (Labels)\": country_name})\n",
    "    sbs_name = sbs_name.drop(columns=[\"From 0 to 1 person employed\",\"From 2 to 9 persons employed\"])\n",
    "    \n",
    "    sbs_countries.append(sbs_name)"
   ]
  },
  {
   "cell_type": "code",
   "execution_count": null,
   "id": "47b77c98-ca9d-4187-a244-ea78c070e25c",
   "metadata": {},
   "outputs": [],
   "source": [
    "firms_with_0_9 = pd.DataFrame(index=sbs_countries[0].index)\n",
    "firms_with_0_9[sbs_countries[0].columns[0]] = sbs_countries[0].iloc[:, 0]\n",
    "firms_with_0_9 = firms_with_0_9.rename(columns={\"Austria\": \"NACE sectors\"})\n",
    "\n",
    "for name in country_names:\n",
    "    firms_with_0_9[name] = None\n",
    "\n",
    "for i in range(len(sbs_countries)):\n",
    "    firms_with_0_9.iloc[:,i+1] = sbs_countries[i][\"From 0 to 9 persons employed\"]\n",
    "firms_with_0_9 = firms_with_0_9.fillna(0)"
   ]
  },
  {
   "cell_type": "code",
   "execution_count": null,
   "id": "96e79c54-1d8d-4d37-a971-47e3bb625c06",
   "metadata": {},
   "outputs": [],
   "source": [
    "firms_with_10_19 = pd.DataFrame(index=sbs_countries[0].index)\n",
    "firms_with_10_19[sbs_countries[0].columns[0]] = sbs_countries[0].iloc[:, 0]\n",
    "firms_with_10_19 = firms_with_10_19.rename(columns={\"Austria\": \"NACE sectors\"})\n",
    "\n",
    "for name in country_names:\n",
    "    firms_with_10_19[name] = None\n",
    "\n",
    "for i in range(len(sbs_countries)):\n",
    "    firms_with_10_19.iloc[:,i+1] = sbs_countries[i][\"From 10 to 19 persons employed\"]\n",
    "firms_with_10_19 = firms_with_10_19.fillna(0)"
   ]
  },
  {
   "cell_type": "code",
   "execution_count": null,
   "id": "986ffa52-3336-44df-8a5a-4bb290165158",
   "metadata": {},
   "outputs": [],
   "source": [
    "firms_with_20_49 = pd.DataFrame(index=sbs_countries[0].index)\n",
    "firms_with_20_49[sbs_countries[0].columns[0]] = sbs_countries[0].iloc[:, 0]\n",
    "firms_with_20_49 = firms_with_20_49.rename(columns={\"Austria\": \"NACE sectors\"})\n",
    "\n",
    "for name in country_names:\n",
    "    firms_with_20_49[name] = None\n",
    "\n",
    "for i in range(len(sbs_countries)):\n",
    "    firms_with_20_49.iloc[:,i+1] = sbs_countries[i][\"From 20 to 49 persons employed\"]\n",
    "firms_with_20_49 = firms_with_20_49.fillna(0)"
   ]
  },
  {
   "cell_type": "code",
   "execution_count": null,
   "id": "eddad924-3115-4ae4-b7d8-1dde4ada4761",
   "metadata": {},
   "outputs": [],
   "source": [
    "firms_with_50_249 = pd.DataFrame(index=sbs_countries[0].index)\n",
    "firms_with_50_249[sbs_countries[0].columns[0]] = sbs_countries[0].iloc[:, 0]\n",
    "firms_with_50_249 = firms_with_50_249.rename(columns={\"Austria\": \"NACE sectors\"})\n",
    "\n",
    "for name in country_names:\n",
    "    firms_with_50_249[name] = None\n",
    "\n",
    "for i in range(len(sbs_countries)):\n",
    "    firms_with_50_249.iloc[:,i+1] = sbs_countries[i][\"From 50 to 249 persons employed\"]\n",
    "firms_with_50_249 = firms_with_50_249.fillna(0)"
   ]
  },
  {
   "cell_type": "code",
   "execution_count": null,
   "id": "d714a903-a269-4ef2-8ab1-903be9d541af",
   "metadata": {},
   "outputs": [],
   "source": [
    "firms_with_250_more = pd.DataFrame(index=sbs_countries[0].index)\n",
    "firms_with_250_more[sbs_countries[0].columns[0]] = sbs_countries[0].iloc[:, 0]\n",
    "firms_with_250_more = firms_with_250_more.rename(columns={\"Austria\": \"NACE sectors\"})\n",
    "\n",
    "for name in country_names:\n",
    "    firms_with_250_more[name] = None\n",
    "\n",
    "for i in range(len(sbs_countries)):\n",
    "    firms_with_250_more.iloc[:,i+1] = sbs_countries[i][\"250 persons employed or more\"]\n",
    "firms_with_250_more = firms_with_250_more.fillna(0)"
   ]
  },
  {
   "cell_type": "code",
   "execution_count": null,
   "id": "2e575130-eea5-47d9-8fbb-027f804b48e0",
   "metadata": {},
   "outputs": [],
   "source": [
    "input_list = [(0,1,2,3,4), (5,6,7),(8,9,10), (11,), (12,), (13,), (14,), (15,), (16,), (17,),\\\n",
    "              (18,), (19,), (20,), (21,), (22,), (23,), (24,), (25,), (26,27), (28,), (29,), (30,), (31, 32, 33),\\\n",
    "              (34, 35, 36), (37,), (38,), (39,), (40,), (41,), (42,), (43,), (44,), (45, 46), (47,), (48,), (49, 50),\\\n",
    "              (51, 52), (53,), (54,), (55,), (56,), (57, 58), (59,), (60,), (61,), (62, 63), (64,), (65,), (66,), (67, 68),\\\n",
    "              (69,), (70,), (71,), (72, 73), (74, 75, 76), (77,), (78,), (79,)]\n",
    "    \n",
    "\n",
    "output_list = [(4,), (5,), (6,), (7,), (8,), (9,), (10,), (11,), (12,), (13,), (14,), (15,), (16,), (17,), (18,), (19,), (20,),\\\n",
    "               (21,), (22,), (23,), (24,), (25,), (26,), (27,), (28,), (29,), (30,), (31,), (32,), (33,), (34,), (35,), (36,), (37,),\\\n",
    "               (38,), (39,), (40,), (41,), (42,), (43,), (45,), (46,), (47,), (48,), (49,), (50,), (51,), (52,), (53,), (54,), \\\n",
    "               (55,), (56,), (57,), (58,), (59,), (60,), (62,), (63,)]\n",
    "\n",
    "# the output list does not contain the tuple for value (44,) as it represents the Imputed rents sector, which has zero firms \n",
    "# We will create only one representative firm in the simulation so to attribute it the productive capital "
   ]
  },
  {
   "cell_type": "code",
   "execution_count": null,
   "id": "f201a060-cd0f-4235-862b-2b6c5f8d5e4f",
   "metadata": {},
   "outputs": [],
   "source": [
    "row_index = pd.MultiIndex.from_arrays(\n",
    "    [mini_naio.index, mini_naio['IND_USE (Labels)']],\n",
    "    names=[\"ID\", 'IND_USE (Labels)']\n",
    ")\n",
    "\n",
    "naio_firms_with_250_more = pd.DataFrame(\"\", index = row_index, columns=firms_with_250_more.columns)\n",
    "naio_firms_with_250_more = naio_firms_with_250_more.drop(columns=['NACE sectors'])\n",
    "\n",
    "naio_firms_with_250_more.iloc[1:4, :] = 0.0 # agriculture silviculture and fish\n",
    "naio_firms_with_250_more.iloc[44, :] = 0.0 # imputed rents\n",
    "naio_firms_with_250_more.iloc[61, :] = 0.0 # membership organizations\n",
    "naio_firms_with_250_more.iloc[64, :] = 0.0 # households as employers\n",
    "naio_firms_with_250_more.iloc[65, :] = 0.0 # international bodies\n",
    "\n",
    "\n",
    "for j in range(len(output_list)):\n",
    "    naio_firms_with_250_more.iloc[output_list[j][0], :] = firms_with_250_more.iloc[input_list[j][0], 1:]\n",
    "    \n",
    "    if len(input_list[j]) > 1:\n",
    "        for i in range(len(input_list[j])-1):\n",
    "            naio_firms_with_250_more.iloc[output_list[j][0], :] += firms_with_250_more.iloc[input_list[j][i+1], 1:]\n",
    "         \n",
    "\n",
    "\n",
    "naio_firms_with_250_more "
   ]
  },
  {
   "cell_type": "raw",
   "id": "31896d7b-8057-4a2a-93c6-39fafc9e0f8f",
   "metadata": {},
   "source": [
    "# 0-9\n",
    "naio_firms_with_0_9 = pd.DataFrame(\"\", index=row_index, columns=firms_with_0_9.columns)\n",
    "naio_firms_with_0_9 = naio_firms_with_0_9.drop(columns=['NACE sectors'])\n",
    "\n",
    "naio_firms_with_0_9.iloc[1:4, :] = 0.0\n",
    "naio_firms_with_0_9.iloc[44, :] = 0.0\n",
    "naio_firms_with_0_9.iloc[61, :] = 0.0\n",
    "naio_firms_with_0_9.iloc[64, :] = 0.0\n",
    "naio_firms_with_0_9.iloc[65, :] = 0.0\n",
    "\n",
    "for j in range(len(output_list)):\n",
    "    naio_firms_with_0_9.iloc[output_list[j][0], :] = firms_with_0_9.iloc[input_list[j][0], 1:]\n",
    "    if len(input_list[j]) > 1:\n",
    "        for i in range(len(input_list[j])-1):\n",
    "            naio_firms_with_0_9.iloc[output_list[j][0], :] += firms_with_0_9.iloc[input_list[j][i+1], 1:]\n",
    "\n",
    "\n",
    "# 10-19\n",
    "naio_firms_with_10_19 = pd.DataFrame(\"\", index=row_index, columns=firms_with_10_19.columns)\n",
    "naio_firms_with_10_19 = naio_firms_with_10_19.drop(columns=['NACE sectors'])\n",
    "\n",
    "naio_firms_with_10_19.iloc[1:4, :] = 0.0\n",
    "naio_firms_with_10_19.iloc[44, :] = 0.0\n",
    "naio_firms_with_10_19.iloc[61, :] = 0.0\n",
    "naio_firms_with_10_19.iloc[64, :] = 0.0\n",
    "naio_firms_with_10_19.iloc[65, :] = 0.0\n",
    "\n",
    "for j in range(len(output_list)):\n",
    "    naio_firms_with_10_19.iloc[output_list[j][0], :] = firms_with_10_19.iloc[input_list[j][0], 1:]\n",
    "    if len(input_list[j]) > 1:\n",
    "        for i in range(len(input_list[j])-1):\n",
    "            naio_firms_with_10_19.iloc[output_list[j][0], :] += firms_with_10_19.iloc[input_list[j][i+1], 1:]\n",
    "\n",
    "\n",
    "# 20-49\n",
    "naio_firms_with_20_49 = pd.DataFrame(\"\", index=row_index, columns=firms_with_20_49.columns)\n",
    "naio_firms_with_20_49 = naio_firms_with_20_49.drop(columns=['NACE sectors'])\n",
    "\n",
    "naio_firms_with_20_49.iloc[1:4, :] = 0.0\n",
    "naio_firms_with_20_49.iloc[44, :] = 0.0\n",
    "naio_firms_with_20_49.iloc[61, :] = 0.0\n",
    "naio_firms_with_20_49.iloc[64, :] = 0.0\n",
    "naio_firms_with_20_49.iloc[65, :] = 0.0\n",
    "\n",
    "for j in range(len(output_list)):\n",
    "    naio_firms_with_20_49.iloc[output_list[j][0], :] = firms_with_20_49.iloc[input_list[j][0], 1:]\n",
    "    if len(input_list[j]) > 1:\n",
    "        for i in range(len(input_list[j])-1):\n",
    "            naio_firms_with_20_49.iloc[output_list[j][0], :] += firms_with_20_49.iloc[input_list[j][i+1], 1:]\n",
    "\n",
    "\n",
    "# 50-249\n",
    "naio_firms_with_50_249 = pd.DataFrame(\"\", index=row_index, columns=firms_with_50_249.columns)\n",
    "naio_firms_with_50_249 = naio_firms_with_50_249.drop(columns=['NACE sectors'])\n",
    "\n",
    "naio_firms_with_50_249.iloc[1:4, :] = 0.0\n",
    "naio_firms_with_50_249.iloc[44, :] = 0.0\n",
    "naio_firms_with_50_249.iloc[61, :] = 0.0\n",
    "naio_firms_with_50_249.iloc[64, :] = 0.0\n",
    "naio_firms_with_50_249.iloc[65, :] = 0.0\n",
    "\n",
    "for j in range(len(output_list)):\n",
    "    naio_firms_with_50_249.iloc[output_list[j][0], :] = firms_with_50_249.iloc[input_list[j][0], 1:]\n",
    "    if len(input_list[j]) > 1:\n",
    "        for i in range(len(input_list[j])-1:\n",
    "            naio_firms_with_50_249.iloc[output_list[j][0], :] += firms_with_50_249.iloc[input_list[j][i+1], 1:]"
   ]
  }
 ],
 "metadata": {
  "kernelspec": {
   "display_name": "Python 3 (ipykernel)",
   "language": "python",
   "name": "python3"
  },
  "language_info": {
   "codemirror_mode": {
    "name": "ipython",
    "version": 3
   },
   "file_extension": ".py",
   "mimetype": "text/x-python",
   "name": "python",
   "nbconvert_exporter": "python",
   "pygments_lexer": "ipython3",
   "version": "3.10.12"
  }
 },
 "nbformat": 4,
 "nbformat_minor": 5
}
