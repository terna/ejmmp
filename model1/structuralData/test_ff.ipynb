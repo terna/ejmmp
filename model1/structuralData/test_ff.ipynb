{
 "cells": [
  {
   "cell_type": "markdown",
   "id": "4c8de1f1",
   "metadata": {},
   "source": [
    "### test ff\n",
    "Powered by [Eleonora Priori](https://www.ecoaz.unito.it/do/docenti.pl/Alias?eleonora.priori#tab-profilo) and [Pietro Terna](https://terna.to.it/) \n"
   ]
  },
  {
   "cell_type": "raw",
   "id": "d6a6107d-567e-4bd6-b8ed-f8d01eec57a0",
   "metadata": {},
   "source": [
    "%%javascript\n",
    "// to avoid scroll in windows\n",
    "IPython.OutputArea.prototype._should_scroll = function(lines) {\n",
    "    return false;\n",
    "}"
   ]
  },
  {
   "cell_type": "markdown",
   "id": "22a4edee-07ce-4bcb-866c-2ba98557bf3a",
   "metadata": {},
   "source": [
    "The trick above, useful to avoid scrolling output windows, does not work with recent jupyter versions; use settings."
   ]
  },
  {
   "cell_type": "code",
   "execution_count": 1,
   "id": "6145f36d",
   "metadata": {},
   "outputs": [],
   "source": [
    "from mpi4py import MPI\n",
    "from repast4py import context as ctx\n",
    "import repast4py \n",
    "from repast4py import parameters\n",
    "from repast4py import schedule\n",
    "from repast4py import core\n",
    "from typing import Tuple, List, Dict\n",
    "import numpy as np\n",
    "import pandas as pd\n",
    "import pickle\n",
    "import csv\n",
    "import os\n",
    "import sys\n",
    "\n",
    "comm = MPI.COMM_WORLD\n",
    "rank    = comm.Get_rank()\n",
    "rankNum = comm.Get_size() \n",
    "\n",
    "# create the context to hold the agents and manage cross process\n",
    "# synchronization\n",
    "context = ctx.SharedContext(comm)\n",
    "\n",
    "# Initialize the default schedule runner, HERE to create the t() function,\n",
    "# returning the tick value\n",
    "runner = schedule.init_schedule_runner(comm)\n",
    "\n",
    "\n",
    "\n",
    "#generate random seed\n",
    "repast4py.random.init(rng_seed=12345)\n",
    "rng = repast4py.random.default_rng "
   ]
  },
  {
   "cell_type": "code",
   "execution_count": 2,
   "id": "1324ef56",
   "metadata": {
    "scrolled": true
   },
   "outputs": [],
   "source": [
    "class Firm(core.Agent):\n",
    "\n",
    "    TYPE = 0\n",
    "    \n",
    "    def __init__(self, local_id: int, rank: int): #, labor:int, capital:float, minOrderDuration:int,\\\n",
    "                 #maxOrderDuration:int, recipe: float, laborProductivity: float, maxOrderProduction: float,\\\n",
    "                 #assetsUsefulLife: float, plannedMarkup: float, orderObservationFrequency: int, productionType: int,\\\n",
    "                 #sectorialClass: int):\n",
    "        super().__init__(id=local_id, type=Firm.TYPE, rank=rank) #uid\n",
    "        \"\"\"\n",
    "        self.labor=labor\n",
    "        self.capital=capital\n",
    "        #self.capitalQ= 0\n",
    "        self.unavailableLabor=0\n",
    "        self.unavailableCapital=0\n",
    "        self.minOrderDuration=minOrderDuration\n",
    "        self.maxOrderDuration=maxOrderDuration\n",
    "        self.recipe = recipe\n",
    "        self.laborProductivity=laborProductivity\n",
    "        self.maxOrderProduction=maxOrderProduction\n",
    "        self.assetsUsefulLife=assetsUsefulLife\n",
    "        self.plannedMarkup=plannedMarkup\n",
    "        self.orderObservationFrequency=orderObservationFrequency\n",
    "        self.productionType=productionType\n",
    "        self.sectorialClass=sectorialClass \n",
    "        \"\"\"\n",
    "\n",
    "        \n",
    "        \n"
   ]
  },
  {
   "cell_type": "code",
   "execution_count": 3,
   "id": "6552759c",
   "metadata": {},
   "outputs": [],
   "source": [
    "\n",
    "class Model:\n",
    "    \n",
    "    def __init__(self):\n",
    "        \n",
    "      \n",
    "        runner.schedule_repeating_event(0.0,  1, self.interactingWithFirms)\n",
    "\n",
    "        runner.schedule_stop(1)\n",
    "        runner.schedule_end_event(self.finish)\n",
    "        \n",
    "        ####################################################################################################\n",
    "        ###################################### CREATE FIRM AGENTS ##########################################\n",
    "        ####################################################################################################\n",
    "\n",
    "        fileName = input(\"file name? \")\n",
    "        firmCount= int(input(\"how many firms? \"))\n",
    "        \n",
    "        #importing csv file containing info about firms \n",
    "        with open(fileName, newline='') as csvfile:\n",
    "            firmReader= csv.reader(csvfile, delimiter=',')#, quoting=csv.QUOTE_NONNUMERIC)\n",
    "            \n",
    "            self.rowNumber=-1 #to skip the row of the headers\n",
    "            k=0\n",
    "            #for each record in .csv\n",
    "            # case ff_base.csv\n",
    "            # #,NACE definition,type,dimensional class,Share of firms,Share of firms per sbs sector,sbs reference row\n",
    "\n",
    "            for row in firmReader:\n",
    "                #print(row)\n",
    "                if self.rowNumber>=0:\n",
    "                    if row[4]=='': row[4]=0\n",
    "                    for i in range(int(float(row[4]) * firmCount)// rankNum):\n",
    "                        \"\"\"labor= rng.integers(row[1], row[2]+1) #+1 because integers exclude extremes \n",
    "                        capital= row[3] + rng.random()*(row[4] -row[3])\n",
    "                        minOrderDuration= row[5]\n",
    "                        maxOrderDuration= row[6]\n",
    "                        recipe= row[7] #K/L \n",
    "                        laborProductivity= row[8]\n",
    "                        maxOrderProduction= row[9]\n",
    "                        avgAssetsUsefulLife=row[10]  #https://www.oecd.org/sdd/productivity-stats/43734711.pdf\n",
    "                        plannedMarkup=row[11]\n",
    "                        orderObservationFrequency=rng.integers(row[12], row[13]+1)\n",
    "                        productionType=int(row[14]) #productionType in firm-features.csv indicates the production of\n",
    "                                                #investment goods if it is into the investmentGoods list in yaml\n",
    "                        sectorialClass=int(self.rowNumber)\"\"\"\n",
    "                        aFirm =Firm(k, rank)#, labor, capital, minOrderDuration, maxOrderDuration, recipe, laborProductivity,\\\n",
    "                                #maxOrderProduction, avgAssetsUsefulLife, plannedMarkup, orderObservationFrequency, productionType,\\\n",
    "                                #sectorialClass)\n",
    "                        context.add(aFirm)\n",
    "                        k += 1 # first element of the UID of the agents\n",
    "                self.rowNumber += 1\n",
    "            self.firmCount=k #one more, here is a count, not an id\n",
    "        \n",
    "    #interactingWithFirms\n",
    "    def interactingWithFirms(self):\n",
    "        print(len(list(context.agents(agent_type=0))))\n",
    "        pass\n",
    "\n",
    "    #finish\n",
    "    def finish(self):\n",
    "        print(\"concluded\")\n",
    "    \n",
    "    def start(self):\n",
    "        runner.execute()"
   ]
  },
  {
   "cell_type": "code",
   "execution_count": 4,
   "id": "c55d8fd5-b2f5-4f91-802f-20d6526aa9b2",
   "metadata": {},
   "outputs": [
    {
     "name": "stdin",
     "output_type": "stream",
     "text": [
      "file name?  ff_base.csv\n",
      "how many firms?  10\n"
     ]
    },
    {
     "name": "stdout",
     "output_type": "stream",
     "text": [
      "3\n",
      "3\n",
      "concluded\n"
     ]
    }
   ],
   "source": [
    "def run():\n",
    "\n",
    "    model = Model() \n",
    "    model.start()\n",
    "    \n",
    "run()"
   ]
  },
  {
   "cell_type": "code",
   "execution_count": 5,
   "id": "55729d00-ba40-4e17-89fa-247ea2501d18",
   "metadata": {},
   "outputs": [],
   "source": [
    "#list(context.agents(agent_type=0))"
   ]
  },
  {
   "cell_type": "code",
   "execution_count": 6,
   "id": "fe3da78f-43ca-4e94-9489-640cc481c175",
   "metadata": {},
   "outputs": [],
   "source": [
    "#row"
   ]
  },
  {
   "cell_type": "code",
   "execution_count": null,
   "id": "db347701-7864-42a8-b1d5-e3f2e9f4558f",
   "metadata": {},
   "outputs": [],
   "source": []
  }
 ],
 "metadata": {
  "kernelspec": {
   "display_name": "Python 3 (ipykernel)",
   "language": "python",
   "name": "python3"
  },
  "language_info": {
   "codemirror_mode": {
    "name": "ipython",
    "version": 3
   },
   "file_extension": ".py",
   "mimetype": "text/x-python",
   "name": "python",
   "nbconvert_exporter": "python",
   "pygments_lexer": "ipython3",
   "version": "3.11.7"
  }
 },
 "nbformat": 4,
 "nbformat_minor": 5
}
