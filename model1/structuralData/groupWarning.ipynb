{
 "cells": [
  {
   "cell_type": "code",
   "execution_count": 1,
   "id": "2b0310db-683e-4c5f-b1d6-7f318b3a3622",
   "metadata": {},
   "outputs": [],
   "source": [
    "import pandas as pd"
   ]
  },
  {
   "cell_type": "code",
   "execution_count": 2,
   "id": "7cb23f79-e744-4d3a-9e09-c5678b9c1873",
   "metadata": {},
   "outputs": [],
   "source": [
    "d={\n",
    "    \"name\":[\"a\",\"a\",\"a\",\"b\",\"b\",\"b\"],\n",
    "    \"sub\":[1,2,3,1,2,3],\n",
    "    \"q\":[11,12,13,21,22,23]\n",
    "}"
   ]
  },
  {
   "cell_type": "code",
   "execution_count": 3,
   "id": "eb298911-b14a-44a7-9fc6-ff74bf957dae",
   "metadata": {},
   "outputs": [],
   "source": [
    "db=pd.DataFrame(d)"
   ]
  },
  {
   "cell_type": "code",
   "execution_count": 4,
   "id": "ed5289bf-99e8-4cd6-ad28-9108ee9fbaba",
   "metadata": {},
   "outputs": [
    {
     "data": {
      "text/html": [
       "<div>\n",
       "<style scoped>\n",
       "    .dataframe tbody tr th:only-of-type {\n",
       "        vertical-align: middle;\n",
       "    }\n",
       "\n",
       "    .dataframe tbody tr th {\n",
       "        vertical-align: top;\n",
       "    }\n",
       "\n",
       "    .dataframe thead th {\n",
       "        text-align: right;\n",
       "    }\n",
       "</style>\n",
       "<table border=\"1\" class=\"dataframe\">\n",
       "  <thead>\n",
       "    <tr style=\"text-align: right;\">\n",
       "      <th></th>\n",
       "      <th>name</th>\n",
       "      <th>sub</th>\n",
       "      <th>q</th>\n",
       "    </tr>\n",
       "  </thead>\n",
       "  <tbody>\n",
       "    <tr>\n",
       "      <th>0</th>\n",
       "      <td>a</td>\n",
       "      <td>1</td>\n",
       "      <td>11</td>\n",
       "    </tr>\n",
       "    <tr>\n",
       "      <th>1</th>\n",
       "      <td>a</td>\n",
       "      <td>2</td>\n",
       "      <td>12</td>\n",
       "    </tr>\n",
       "    <tr>\n",
       "      <th>2</th>\n",
       "      <td>a</td>\n",
       "      <td>3</td>\n",
       "      <td>13</td>\n",
       "    </tr>\n",
       "    <tr>\n",
       "      <th>3</th>\n",
       "      <td>b</td>\n",
       "      <td>1</td>\n",
       "      <td>21</td>\n",
       "    </tr>\n",
       "    <tr>\n",
       "      <th>4</th>\n",
       "      <td>b</td>\n",
       "      <td>2</td>\n",
       "      <td>22</td>\n",
       "    </tr>\n",
       "    <tr>\n",
       "      <th>5</th>\n",
       "      <td>b</td>\n",
       "      <td>3</td>\n",
       "      <td>23</td>\n",
       "    </tr>\n",
       "  </tbody>\n",
       "</table>\n",
       "</div>"
      ],
      "text/plain": [
       "  name  sub   q\n",
       "0    a    1  11\n",
       "1    a    2  12\n",
       "2    a    3  13\n",
       "3    b    1  21\n",
       "4    b    2  22\n",
       "5    b    3  23"
      ]
     },
     "execution_count": 4,
     "metadata": {},
     "output_type": "execute_result"
    }
   ],
   "source": [
    "db"
   ]
  },
  {
   "cell_type": "code",
   "execution_count": 5,
   "id": "6dd36687-c609-46e0-bf21-fa1946f617f1",
   "metadata": {},
   "outputs": [],
   "source": [
    "grouped_db = db.groupby('name')"
   ]
  },
  {
   "cell_type": "code",
   "execution_count": 6,
   "id": "c0c924a6-ce0d-4d48-af05-64ba1eb246af",
   "metadata": {},
   "outputs": [
    {
     "data": {
      "text/plain": [
       "name\n",
       "a    36\n",
       "b    66\n",
       "Name: q, dtype: int64"
      ]
     },
     "execution_count": 6,
     "metadata": {},
     "output_type": "execute_result"
    }
   ],
   "source": [
    "grouped_db['q'].sum()"
   ]
  },
  {
   "cell_type": "code",
   "execution_count": 7,
   "id": "921b0a74-9941-49d5-b0e3-3add1b0f42a7",
   "metadata": {},
   "outputs": [],
   "source": [
    "def sum_without_3(group):\n",
    "    filtered_group = group[group['sub'] != 3]\n",
    "    return filtered_group.iloc[:, -1].sum()"
   ]
  },
  {
   "cell_type": "code",
   "execution_count": 8,
   "id": "e34da4ea-d1ba-441d-acb5-5fcf6dbe4a2d",
   "metadata": {},
   "outputs": [
    {
     "name": "stderr",
     "output_type": "stream",
     "text": [
      "/var/folders/wk/ylph8q1x10q_dvsr9mzx4r1r0000gn/T/ipykernel_47264/1231002757.py:1: DeprecationWarning: DataFrameGroupBy.apply operated on the grouping columns. This behavior is deprecated, and in a future version of pandas the grouping columns will be excluded from the operation. Either pass `include_groups=False` to exclude the groupings or explicitly select the grouping columns after groupby to silence this warning.\n",
      "  total_q_without_3 = grouped_db.apply(sum_without_3)\n"
     ]
    }
   ],
   "source": [
    "total_q_without_3 = grouped_db.apply(sum_without_3)"
   ]
  },
  {
   "cell_type": "markdown",
   "id": "7cfe4eaf-b5c6-47e6-8f9f-e4a743db7ca3",
   "metadata": {},
   "source": [
    "Frozen error\n",
    "\n",
    "/var/folders/wk/ylph8q1x10q_dvsr9mzx4r1r0000gn/T/ipykernel_47264/1231002757.py:1: DeprecationWarning: \n",
    "DataFrameGroupBy.apply operated on the grouping columns. This behavior is deprecated, and in a future \n",
    "version of pandas the grouping columns will be excluded from the operation. \n",
    "Either pass `include_groups=False` to exclude the groupings or explicitly select the grouping columns \n",
    "after groupby to silence this warning.\n",
    "  total_q_without_3 = grouped_db.apply(sum_without_3)\n"
   ]
  },
  {
   "cell_type": "code",
   "execution_count": 9,
   "id": "47e39f94-7285-483b-9b90-71a6c261387d",
   "metadata": {},
   "outputs": [
    {
     "data": {
      "text/plain": [
       "name\n",
       "a    23\n",
       "b    43\n",
       "dtype: int64"
      ]
     },
     "execution_count": 9,
     "metadata": {},
     "output_type": "execute_result"
    }
   ],
   "source": [
    "total_q_without_3"
   ]
  },
  {
   "cell_type": "markdown",
   "id": "3e740342-c756-4954-af95-5bf9cbad3829",
   "metadata": {},
   "source": [
    "# retry, asking to DeepSeek"
   ]
  },
  {
   "cell_type": "code",
   "execution_count": 10,
   "id": "b2b1ad18-c2db-45e6-9514-367d7438f8c3",
   "metadata": {},
   "outputs": [],
   "source": [
    "# Group by 'name' and select only the relevant columns ('sub' and 'q')\n",
    "grouped_db = db.groupby('name')[['sub', 'q']]"
   ]
  },
  {
   "cell_type": "code",
   "execution_count": 11,
   "id": "666e9654-c627-4835-9344-624d1f884c39",
   "metadata": {},
   "outputs": [
    {
     "data": {
      "text/html": [
       "<div>\n",
       "<style scoped>\n",
       "    .dataframe tbody tr th:only-of-type {\n",
       "        vertical-align: middle;\n",
       "    }\n",
       "\n",
       "    .dataframe tbody tr th {\n",
       "        vertical-align: top;\n",
       "    }\n",
       "\n",
       "    .dataframe thead th {\n",
       "        text-align: right;\n",
       "    }\n",
       "</style>\n",
       "<table border=\"1\" class=\"dataframe\">\n",
       "  <thead>\n",
       "    <tr style=\"text-align: right;\">\n",
       "      <th></th>\n",
       "      <th>sub</th>\n",
       "      <th>q</th>\n",
       "    </tr>\n",
       "    <tr>\n",
       "      <th>name</th>\n",
       "      <th></th>\n",
       "      <th></th>\n",
       "    </tr>\n",
       "  </thead>\n",
       "  <tbody>\n",
       "    <tr>\n",
       "      <th>a</th>\n",
       "      <td>6</td>\n",
       "      <td>36</td>\n",
       "    </tr>\n",
       "    <tr>\n",
       "      <th>b</th>\n",
       "      <td>6</td>\n",
       "      <td>66</td>\n",
       "    </tr>\n",
       "  </tbody>\n",
       "</table>\n",
       "</div>"
      ],
      "text/plain": [
       "      sub   q\n",
       "name         \n",
       "a       6  36\n",
       "b       6  66"
      ]
     },
     "execution_count": 11,
     "metadata": {},
     "output_type": "execute_result"
    }
   ],
   "source": [
    "grouped_db.sum()"
   ]
  },
  {
   "cell_type": "code",
   "execution_count": 12,
   "id": "f19047a2-aa31-40a5-8f5b-9b2a8e8f152c",
   "metadata": {},
   "outputs": [],
   "source": [
    "total_q_without_3 = grouped_db.apply(sum_without_3)"
   ]
  },
  {
   "cell_type": "code",
   "execution_count": 13,
   "id": "e2e62937-cd6b-486b-9a4a-0102d93a0866",
   "metadata": {},
   "outputs": [
    {
     "data": {
      "text/plain": [
       "name\n",
       "a    23\n",
       "b    43\n",
       "dtype: int64"
      ]
     },
     "execution_count": 13,
     "metadata": {},
     "output_type": "execute_result"
    }
   ],
   "source": [
    "total_q_without_3"
   ]
  },
  {
   "cell_type": "code",
   "execution_count": 14,
   "id": "fcc8f9ec-f2fe-48d6-b162-6eaf5376a8d0",
   "metadata": {},
   "outputs": [
    {
     "data": {
      "text/plain": [
       "23"
      ]
     },
     "execution_count": 14,
     "metadata": {},
     "output_type": "execute_result"
    }
   ],
   "source": [
    "total_q_without_3['a']"
   ]
  },
  {
   "cell_type": "code",
   "execution_count": null,
   "id": "9cd16ac5-3c03-4c66-9df9-7ebb3b5a3d2f",
   "metadata": {},
   "outputs": [],
   "source": []
  }
 ],
 "metadata": {
  "kernelspec": {
   "display_name": "Python 3 (ipykernel)",
   "language": "python",
   "name": "python3"
  },
  "language_info": {
   "codemirror_mode": {
    "name": "ipython",
    "version": 3
   },
   "file_extension": ".py",
   "mimetype": "text/x-python",
   "name": "python",
   "nbconvert_exporter": "python",
   "pygments_lexer": "ipython3",
   "version": "3.11.7"
  }
 },
 "nbformat": 4,
 "nbformat_minor": 5
}
